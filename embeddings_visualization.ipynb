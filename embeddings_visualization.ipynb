{
 "cells": [
  {
   "cell_type": "markdown",
   "metadata": {},
   "source": [
    "# Learning debiased embeddings"
   ]
  },
  {
   "cell_type": "markdown",
   "metadata": {},
   "source": [
    "## 1. Libraries"
   ]
  },
  {
   "cell_type": "code",
   "execution_count": 91,
   "metadata": {},
   "outputs": [],
   "source": [
    "import os\n",
    "from pathlib import Path\n",
    "import numpy as np\n",
    "import pickle\n",
    "from tqdm import tqdm\n",
    "import pandas as pd\n",
    "import json\n",
    "import seaborn as sns\n",
    "import matplotlib.pyplot as plt\n",
    "\n",
    "from debiaswe.data import load_professions, load_embeddings, load_embeddings_pandas\n",
    "\n",
    "%matplotlib inline"
   ]
  },
  {
   "cell_type": "markdown",
   "metadata": {},
   "source": [
    "## 2. Data preparation\n",
    "\n",
    "Loading the profession file: for each job it is associated a *definitional* and a *stereotypical* score."
   ]
  },
  {
   "cell_type": "code",
   "execution_count": 16,
   "metadata": {},
   "outputs": [
    {
     "name": "stdout",
     "output_type": "stream",
     "text": [
      "Loaded professions\n",
      "Format:\n",
      "word,\n",
      "definitional female -1.0 -> definitional male 1.0\n",
      "stereotypical female -1.0 -> stereotypical male 1.0\n",
      "Number of professions found in the file: 320\n"
     ]
    }
   ],
   "source": [
    "professions = load_professions()\n",
    "print(f'Number of professions found in the file: {len(professions)}')"
   ]
  },
  {
   "cell_type": "markdown",
   "metadata": {},
   "source": [
    "Then we extract the male, female and neutral words by checking for each profession if its sterotypical score $d_w$ is greater or smaller than a predefined threshold $\\rho$ (here $\\rho = 0.3$)."
   ]
  },
  {
   "cell_type": "code",
   "execution_count": 3,
   "metadata": {},
   "outputs": [],
   "source": [
    "def get_sets():\n",
    "    male_words = []\n",
    "    female_words = []\n",
    "    neutral_words = []\n",
    "    threshold = 0.3\n",
    "\n",
    "    male_words = []\n",
    "    female_words = []\n",
    "    neutral_words = []\n",
    "\n",
    "    for job in professions:\n",
    "        st = float(job[2])\n",
    "        if float(st) > threshold:\n",
    "            male_words.append(job[0])\n",
    "        elif -float(st) > threshold:\n",
    "            female_words.append(job[0])\n",
    "        else:\n",
    "            neutral_words.append(job[0])\n",
    "\n",
    "    return male_words, female_words, neutral_words\n",
    "\n",
    "male_words, female_words, neutral_words = get_sets()\n",
    "jobs = np.array(professions)[:, 0]"
   ]
  },
  {
   "cell_type": "markdown",
   "metadata": {},
   "source": [
    "### 2.1 Debiased embeddings\n",
    "To load the embeddings produced by the debiasing model we simply call the method from the `data` module which will return us a `pandas.DataFrame`."
   ]
  },
  {
   "cell_type": "code",
   "execution_count": 4,
   "metadata": {},
   "outputs": [],
   "source": [
    "# vocab, embeddings, word_to_idx, idx_to_word = load_embeddings()\n",
    "emb_df = load_embeddings_pandas()"
   ]
  },
  {
   "cell_type": "markdown",
   "metadata": {},
   "source": [
    "We can see that the embeddings loaded are $w \\in \\mathbb{R}^{300}$."
   ]
  },
  {
   "cell_type": "code",
   "execution_count": 5,
   "metadata": {},
   "outputs": [
    {
     "data": {
      "text/html": [
       "<div>\n",
       "<style scoped>\n",
       "    .dataframe tbody tr th:only-of-type {\n",
       "        vertical-align: middle;\n",
       "    }\n",
       "\n",
       "    .dataframe tbody tr th {\n",
       "        vertical-align: top;\n",
       "    }\n",
       "\n",
       "    .dataframe thead th {\n",
       "        text-align: right;\n",
       "    }\n",
       "</style>\n",
       "<table border=\"1\" class=\"dataframe\">\n",
       "  <thead>\n",
       "    <tr style=\"text-align: right;\">\n",
       "      <th></th>\n",
       "      <th>word</th>\n",
       "      <th>1</th>\n",
       "      <th>2</th>\n",
       "      <th>3</th>\n",
       "      <th>4</th>\n",
       "      <th>5</th>\n",
       "      <th>6</th>\n",
       "      <th>7</th>\n",
       "      <th>8</th>\n",
       "      <th>9</th>\n",
       "      <th>...</th>\n",
       "      <th>291</th>\n",
       "      <th>292</th>\n",
       "      <th>293</th>\n",
       "      <th>294</th>\n",
       "      <th>295</th>\n",
       "      <th>296</th>\n",
       "      <th>297</th>\n",
       "      <th>298</th>\n",
       "      <th>299</th>\n",
       "      <th>300</th>\n",
       "    </tr>\n",
       "  </thead>\n",
       "  <tbody>\n",
       "    <tr>\n",
       "      <th>0</th>\n",
       "      <td>the</td>\n",
       "      <td>0.214484</td>\n",
       "      <td>-0.936429</td>\n",
       "      <td>-0.482297</td>\n",
       "      <td>0.178016</td>\n",
       "      <td>-0.012346</td>\n",
       "      <td>-0.128123</td>\n",
       "      <td>0.154942</td>\n",
       "      <td>-0.051772</td>\n",
       "      <td>-0.072807</td>\n",
       "      <td>...</td>\n",
       "      <td>-0.026935</td>\n",
       "      <td>0.341347</td>\n",
       "      <td>-0.001474</td>\n",
       "      <td>-0.135471</td>\n",
       "      <td>-0.066768</td>\n",
       "      <td>-0.471664</td>\n",
       "      <td>-0.021390</td>\n",
       "      <td>-0.026099</td>\n",
       "      <td>0.454119</td>\n",
       "      <td>1.372781</td>\n",
       "    </tr>\n",
       "    <tr>\n",
       "      <th>1</th>\n",
       "      <td>of</td>\n",
       "      <td>0.691771</td>\n",
       "      <td>-0.563567</td>\n",
       "      <td>-0.642893</td>\n",
       "      <td>0.293528</td>\n",
       "      <td>-0.381607</td>\n",
       "      <td>-0.262290</td>\n",
       "      <td>0.329361</td>\n",
       "      <td>0.077962</td>\n",
       "      <td>-0.201108</td>\n",
       "      <td>...</td>\n",
       "      <td>0.304275</td>\n",
       "      <td>-0.035230</td>\n",
       "      <td>0.027677</td>\n",
       "      <td>0.144458</td>\n",
       "      <td>-0.094593</td>\n",
       "      <td>-0.481935</td>\n",
       "      <td>-0.123538</td>\n",
       "      <td>0.391904</td>\n",
       "      <td>0.736023</td>\n",
       "      <td>1.185873</td>\n",
       "    </tr>\n",
       "    <tr>\n",
       "      <th>2</th>\n",
       "      <td>and</td>\n",
       "      <td>0.017036</td>\n",
       "      <td>-0.317027</td>\n",
       "      <td>-0.359625</td>\n",
       "      <td>0.493605</td>\n",
       "      <td>-0.538638</td>\n",
       "      <td>-0.264845</td>\n",
       "      <td>0.310016</td>\n",
       "      <td>0.256150</td>\n",
       "      <td>-0.178865</td>\n",
       "      <td>...</td>\n",
       "      <td>-0.247396</td>\n",
       "      <td>-0.051276</td>\n",
       "      <td>0.057986</td>\n",
       "      <td>-0.028516</td>\n",
       "      <td>0.251905</td>\n",
       "      <td>-0.291805</td>\n",
       "      <td>-0.241702</td>\n",
       "      <td>0.251950</td>\n",
       "      <td>0.530691</td>\n",
       "      <td>0.806886</td>\n",
       "    </tr>\n",
       "    <tr>\n",
       "      <th>3</th>\n",
       "      <td>in</td>\n",
       "      <td>0.118735</td>\n",
       "      <td>-0.700932</td>\n",
       "      <td>-0.210569</td>\n",
       "      <td>0.546696</td>\n",
       "      <td>-0.987682</td>\n",
       "      <td>-0.106259</td>\n",
       "      <td>-0.114322</td>\n",
       "      <td>0.220718</td>\n",
       "      <td>0.111958</td>\n",
       "      <td>...</td>\n",
       "      <td>0.152707</td>\n",
       "      <td>0.053790</td>\n",
       "      <td>0.068665</td>\n",
       "      <td>-0.027525</td>\n",
       "      <td>0.033012</td>\n",
       "      <td>-0.064333</td>\n",
       "      <td>0.204823</td>\n",
       "      <td>0.259245</td>\n",
       "      <td>0.423288</td>\n",
       "      <td>0.927642</td>\n",
       "    </tr>\n",
       "    <tr>\n",
       "      <th>4</th>\n",
       "      <td>a</td>\n",
       "      <td>0.310709</td>\n",
       "      <td>-0.394232</td>\n",
       "      <td>-0.380080</td>\n",
       "      <td>0.161297</td>\n",
       "      <td>-0.253897</td>\n",
       "      <td>-0.083834</td>\n",
       "      <td>-0.347447</td>\n",
       "      <td>0.049588</td>\n",
       "      <td>0.276277</td>\n",
       "      <td>...</td>\n",
       "      <td>0.273594</td>\n",
       "      <td>0.013120</td>\n",
       "      <td>0.225561</td>\n",
       "      <td>0.286412</td>\n",
       "      <td>-0.337665</td>\n",
       "      <td>-0.405250</td>\n",
       "      <td>-0.197888</td>\n",
       "      <td>-0.029707</td>\n",
       "      <td>0.340794</td>\n",
       "      <td>1.284348</td>\n",
       "    </tr>\n",
       "  </tbody>\n",
       "</table>\n",
       "<p>5 rows × 301 columns</p>\n",
       "</div>"
      ],
      "text/plain": [
       "  word         1         2         3         4         5         6         7  \\\n",
       "0  the  0.214484 -0.936429 -0.482297  0.178016 -0.012346 -0.128123  0.154942   \n",
       "1   of  0.691771 -0.563567 -0.642893  0.293528 -0.381607 -0.262290  0.329361   \n",
       "2  and  0.017036 -0.317027 -0.359625  0.493605 -0.538638 -0.264845  0.310016   \n",
       "3   in  0.118735 -0.700932 -0.210569  0.546696 -0.987682 -0.106259 -0.114322   \n",
       "4    a  0.310709 -0.394232 -0.380080  0.161297 -0.253897 -0.083834 -0.347447   \n",
       "\n",
       "          8         9  ...       291       292       293       294       295  \\\n",
       "0 -0.051772 -0.072807  ... -0.026935  0.341347 -0.001474 -0.135471 -0.066768   \n",
       "1  0.077962 -0.201108  ...  0.304275 -0.035230  0.027677  0.144458 -0.094593   \n",
       "2  0.256150 -0.178865  ... -0.247396 -0.051276  0.057986 -0.028516  0.251905   \n",
       "3  0.220718  0.111958  ...  0.152707  0.053790  0.068665 -0.027525  0.033012   \n",
       "4  0.049588  0.276277  ...  0.273594  0.013120  0.225561  0.286412 -0.337665   \n",
       "\n",
       "        296       297       298       299       300  \n",
       "0 -0.471664 -0.021390 -0.026099  0.454119  1.372781  \n",
       "1 -0.481935 -0.123538  0.391904  0.736023  1.185873  \n",
       "2 -0.291805 -0.241702  0.251950  0.530691  0.806886  \n",
       "3 -0.064333  0.204823  0.259245  0.423288  0.927642  \n",
       "4 -0.405250 -0.197888 -0.029707  0.340794  1.284348  \n",
       "\n",
       "[5 rows x 301 columns]"
      ]
     },
     "execution_count": 5,
     "metadata": {},
     "output_type": "execute_result"
    }
   ],
   "source": [
    "emb_df.head()"
   ]
  },
  {
   "cell_type": "markdown",
   "metadata": {},
   "source": [
    "Now we can extract the *male*, *female* and *neutral* embeddings from the whole list by simply exploiting the functionalities of pandas."
   ]
  },
  {
   "cell_type": "code",
   "execution_count": 42,
   "metadata": {},
   "outputs": [
    {
     "name": "stdout",
     "output_type": "stream",
     "text": [
      "Number of male words: 142\n",
      "Number of female words: 21\n",
      "Number of neutral words: 128\n",
      "====================================================================================================\n",
      "[DEBUG] Male sterotyped profession: doctor\n",
      "[DEBUG] Female sterotyped profession: environmentalist\n",
      "[DEBUG] Neutral sterotyped profession: musician\n",
      "====================================================================================================\n"
     ]
    }
   ],
   "source": [
    "debug_idx = 14\n",
    "\n",
    "male_vectors = emb_df.loc[emb_df['word'].isin(male_words)]\n",
    "print(f'Number of male words: {male_vectors.shape[0]}')\n",
    "\n",
    "female_vectors = emb_df.loc[emb_df['word'].isin(female_words)]\n",
    "print(f'Number of female words: {female_vectors.shape[0]}')\n",
    "\n",
    "neutral_vectors = emb_df.loc[emb_df['word'].isin(neutral_words)]\n",
    "print(f'Number of neutral words: {neutral_vectors.shape[0]}')\n",
    "\n",
    "print(100*'=')\n",
    "\n",
    "print(f'[DEBUG] Male sterotyped profession: {male_vectors.iloc[debug_idx, 0]}')\n",
    "print(f'[DEBUG] Female sterotyped profession: {female_vectors.iloc[debug_idx, 0]}')\n",
    "print(f'[DEBUG] Neutral sterotyped profession: {neutral_vectors.iloc[debug_idx, 0]}')\n",
    "\n",
    "print(100*'=')"
   ]
  },
  {
   "cell_type": "markdown",
   "metadata": {},
   "source": [
    "## 3. Gender attribute visualization"
   ]
  },
  {
   "cell_type": "markdown",
   "metadata": {},
   "source": [
    "We take the first 20 gender-specific words and their respective embeddings. Note that in GN-GloVe an embedding $w$ is made by $[w_a, w_g]$ where usually $w_g \\in \\mathbb{R}^1$ (i.e., the last column).\n",
    "\n",
    "We also sort their embedding by descending gender contribute, indicating by the facto the terms that most are contribuiting to the gender bias. "
   ]
  },
  {
   "cell_type": "code",
   "execution_count": 80,
   "metadata": {},
   "outputs": [],
   "source": [
    "n = 20\n",
    "male_vectors_g = male_vectors[male_vectors.columns[-1]].sort_values(ascending=False)\n",
    "# male_vectors_g = male_vectors_g.sort_values(ascending=False).reset_index().drop(\"index\", axis=1)[300]\n",
    "male_vectors_g = male_vectors_g[:n].to_numpy()\n",
    "\n",
    "female_vectors_g = female_vectors[female_vectors.columns[-1]].sort_values(ascending=False)\n",
    "# female_vectors_g = female_vectors_g.sort_values().reset_index().drop(\"index\", axis=1)[300]\n",
    "female_vectors_g  = female_vectors_g[:n].to_numpy()"
   ]
  },
  {
   "cell_type": "markdown",
   "metadata": {},
   "source": [
    "Similarly for the neutral words, we only take a greater set with respect to the gender specific ones."
   ]
  },
  {
   "cell_type": "code",
   "execution_count": 84,
   "metadata": {},
   "outputs": [],
   "source": [
    "# neutral_vectors_g = np.concatenate((male_vectors_g[n:], female_vectors_g[n:]))\n",
    "neutral_vectors_g = neutral_vectors[neutral_vectors.columns[-1]]\n",
    "# np.random.shuffle(neutral_vectors_g)\n",
    "neutral_vectors_g  = neutral_vectors_g[n:].to_numpy()"
   ]
  },
  {
   "cell_type": "markdown",
   "metadata": {},
   "source": [
    "We then random uniformly spread the values along the y-axis in order to visualize them."
   ]
  },
  {
   "cell_type": "code",
   "execution_count": 87,
   "metadata": {},
   "outputs": [],
   "source": [
    "y_male = np.random.uniform(0, 250, size=len(male_vectors_g))\n",
    "y_female = np.random.uniform(0, 250, size=len(female_vectors_g))\n",
    "y_neutral = np.random.uniform(0, 250, size=len(neutral_vectors_g))"
   ]
  },
  {
   "cell_type": "code",
   "execution_count": 118,
   "metadata": {},
   "outputs": [
    {
     "data": {
      "image/png": "[encoded data removed]",
      "text/plain": [
       "<Figure size 504x504 with 1 Axes>"
      ]
     },
     "metadata": {},
     "output_type": "display_data"
    },
    {
     "data": {
      "text/plain": [
       "<Figure size 720x720 with 0 Axes>"
      ]
     },
     "metadata": {},
     "output_type": "display_data"
    }
   ],
   "source": [
    "fig = plt.figure(figsize=(7,7))\n",
    "ax = plt.subplot(111)\n",
    "ax.scatter(male_vectors_g, y_male, marker=\"*\", c='b')\n",
    "ax.scatter(female_vectors_g, y_female, marker=\"s\", c='r')\n",
    "ax.scatter(neutral_vectors_g, y_neutral, marker=\"o\",  c='y')\n",
    "\n",
    "n = 5\n",
    "for i, male_word, female_word in zip(range(n), male_vectors['word'], female_vectors['word']):\n",
    "  # print(male_word, female_word, neutral_word)\n",
    "  plt.annotate(male_word, (male_vectors_g[i], y_male[i] + 6))\n",
    "  plt.annotate(female_word, (female_vectors_g[i], y_female[i] + 6))\n",
    "  # plt.annotate(neutral_word, (neutral_vectors_g[i], y_neutral[i]+2))\n",
    "plt.figure(figsize=(10, 10))\n",
    "# plt.legend([\"Male\", \"Female\", \"Neutral\"])\n",
    "\n",
    "ax.legend([\"Male\", \"Female\", \"Neutral\"], bbox_to_anchor=(1.1, 1.05), fancybox=True, shadow=True)\n",
    "\n",
    "plt.style.use('ggplot')\n",
    "plt.show()"
   ]
  },
  {
   "cell_type": "code",
   "execution_count": 11,
   "metadata": {},
   "outputs": [
    {
     "data": {
      "text/plain": [
       "<Figure size 720x720 with 0 Axes>"
      ]
     },
     "execution_count": 11,
     "metadata": {},
     "output_type": "execute_result"
    },
    {
     "data": {
      "image/png": "[encoded data removed]",
      "text/plain": [
       "<Figure size 432x288 with 1 Axes>"
      ]
     },
     "metadata": {
      "needs_background": "light"
     },
     "output_type": "display_data"
    },
    {
     "data": {
      "text/plain": [
       "<Figure size 720x720 with 0 Axes>"
      ]
     },
     "metadata": {},
     "output_type": "display_data"
    }
   ],
   "source": [
    "plt.scatter(male_vectors_g, y_male, marker = \"*\", s=1)\n",
    "plt.scatter(female_vectors_g, y_female, marker = \"*\", s=1)\n",
    "plt.scatter(neutral_vectors_g, y_neutral, marker=\"*\", s=1)\n",
    "\n",
    "plt.yticks([])\n",
    "n = 5\n",
    "for i, male_word, female_word in zip(range(n), male_vectors['word'], female_vectors['word']):\n",
    "  # print(male_word, female_word, neutral_word)\n",
    "  plt.annotate(male_word, (male_vectors_g[i], y_male[i]+6))\n",
    "  plt.annotate(female_word, (female_vectors_g[i], y_female[i]+6))\n",
    "  # plt.annotate(neutral_word, (neutral_vectors_g[i], y_neutral[i]+2))\n",
    "plt.figure(figsize=(10, 10))\n",
    "# plt.legend([\"Male\", \"Female\", \"Neutral\"])\n",
    "# plt.show()"
   ]
  },
  {
   "cell_type": "markdown",
   "metadata": {},
   "source": [
    "## 4. Neutral attribute visualization"
   ]
  },
  {
   "cell_type": "code",
   "execution_count": 12,
   "metadata": {},
   "outputs": [],
   "source": [
    "male_vectors_a = male_vectors[male_vectors.columns[1:-1]]\n",
    "male_vectors_a = male_vectors_a.reset_index().drop(\"index\", axis=1)\n",
    "\n",
    "\n",
    "female_vectors_a = female_vectors[female_vectors.columns[1:-1]]\n",
    "female_vectors_a = female_vectors_a.reset_index().drop(\"index\", axis=1)"
   ]
  },
  {
   "cell_type": "code",
   "execution_count": 13,
   "metadata": {},
   "outputs": [],
   "source": [
    "n = len(male_vectors_a) + len(female_vectors_a)\n",
    "\n",
    "w_m = male_vectors_a.sum(axis=0)\n",
    "w_f = female_vectors_a.sum(axis=0)\n",
    "\n",
    "v_g = (w_m - w_f) / n"
   ]
  },
  {
   "cell_type": "code",
   "execution_count": null,
   "metadata": {},
   "outputs": [],
   "source": []
  }
 ],
 "metadata": {
  "interpreter": {
   "hash": "1c92815ba542fd4a32c4ca5995ff61e2abc465a0a2d052217182d1ebd75231c2"
  },
  "kernelspec": {
   "display_name": "Python 3.9.12 ('debias_nlp_embeddings')",
   "language": "python",
   "name": "python3"
  },
  "language_info": {
   "codemirror_mode": {
    "name": "ipython",
    "version": 3
   },
   "file_extension": ".py",
   "mimetype": "text/x-python",
   "name": "python",
   "nbconvert_exporter": "python",
   "pygments_lexer": "ipython3",
   "version": "3.9.12"
  },
  "orig_nbformat": 4
 },
 "nbformat": 4,
 "nbformat_minor": 2
}
