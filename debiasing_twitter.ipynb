{
 "cells": [
  {
   "cell_type": "markdown",
   "metadata": {},
   "source": [
    "# Debiasing italian word embeddings"
   ]
  },
  {
   "cell_type": "markdown",
   "metadata": {},
   "source": [
    "### Downlaod data \n",
    "First of all, you need to download the Italian Twitter Embeddings pretraned from the following link [here](https://drive.google.com/file/d/15L4NM0NpxSNF6QAjp-E83P_MgA5TkKHl/view?usp=sharing) and insert the file into the `embeddings` folder."
   ]
  },
  {
   "cell_type": "code",
   "execution_count": 115,
   "metadata": {},
   "outputs": [],
   "source": [
    "from matplotlib import pyplot as plt\n",
    "import numpy as np\n",
    "import pandas as pd\n",
    "import json\n",
    "import random\n",
    "\n",
    "import debiaswe.we as we\n",
    "import debiaswe.metrics as metrics\n",
    "from debiaswe.we import WordEmbedding\n",
    "from gensim.models import KeyedVectors"
   ]
  },
  {
   "cell_type": "markdown",
   "metadata": {},
   "source": [
    "## 1. Analysis of the embeddings"
   ]
  },
  {
   "cell_type": "code",
   "execution_count": 2,
   "metadata": {},
   "outputs": [
    {
     "name": "stdout",
     "output_type": "stream",
     "text": [
      "*** Reading data from ./embeddings/filtered_twitter128.tsv\n",
      "(327168, 128)\n",
      "327168 words of dimension 128 : di, che, e, a, ..., onqew, leadershipnon, yzibykeju, sbaraglliato\n"
     ]
    }
   ],
   "source": [
    "# load the word embeddings\n",
    "embeddings = WordEmbedding('./embeddings/filtered_twitter128.tsv')"
   ]
  },
  {
   "cell_type": "markdown",
   "metadata": {},
   "source": [
    "### 1.1 Exploit relations between words computing analogies\n",
    "Analogies are a useful way to both evaluate the quality of a word embedding and also its stereotypes. In the standard analogy tasks, we are given three words, for example `he`, `she`, `king`, and look for the 4th word to solve  `he : king = she : x`."
   ]
  },
  {
   "cell_type": "code",
   "execution_count": 4,
   "metadata": {},
   "outputs": [],
   "source": [
    "# convert WordEmbedding into word2vec format\n",
    "tmp_file='./embeddings/filtered_twitter_w2v.bin'\n",
    "embeddings.save_w2v(tmp_file)\n",
    "w2v_embeddings = KeyedVectors.load_word2vec_format(tmp_file, binary=True)"
   ]
  },
  {
   "cell_type": "code",
   "execution_count": 36,
   "metadata": {},
   "outputs": [
    {
     "name": "stdout",
     "output_type": "stream",
     "text": [
      "uomo : re = donna : x\n",
      "Analogy solution x =  [('regina', '63.93%'), ('diva', '58.28%'), ('reginetta', '51.03%')]\n",
      "\n",
      "milan : italia = chelsea : x\n",
      "Analogy solution x =  [('inghilterra', '78.54%'), ('america', '77.16%'), ('australia', '70.71%')]\n"
     ]
    }
   ],
   "source": [
    "# fair analogies examples\n",
    "print(\"uomo : re = donna : x\")\n",
    "print(\"Analogy solution x = \", [(x[0], str(round(x[1]*100,2))+\"%\") for x in w2v_embeddings.most_similar(positive=['donna', 're'], negative=['uomo'], topn=3)])\n",
    "\n",
    "print(\"\\nmilan : italia = chelsea : x\")\n",
    "print(\"Analogy solution x = \", [(x[0], str(round(x[1]*100,2))+\"%\") for x in w2v_embeddings.most_similar(positive=['chelsea', 'italia'], negative=['milan'], topn=3)])"
   ]
  },
  {
   "cell_type": "code",
   "execution_count": 91,
   "metadata": {},
   "outputs": [
    {
     "name": "stdout",
     "output_type": "stream",
     "text": [
      "uomo : informatica = donna : x\n",
      "[('psicologia', 0.6140111684799194), ('specializzazione', 0.5994383692741394), ('studentessa', 0.5955289006233215)]\n",
      "\n",
      "donna : filologia = uomo : x\n",
      "[('antropologia', 0.6480094194412231), ('iliade', 0.6244432330131531), ('accusativo', 0.6178608536720276)]\n"
     ]
    }
   ],
   "source": [
    "# biased analogies examples\n",
    "print(\"uomo : informatica = donna : x\")\n",
    "print(w2v_embeddings.most_similar(positive=['donna', 'informatica'], negative=['uomo'], topn=3))\n",
    "\n",
    "print(\"\\ndonna : filologia = uomo : x\")\n",
    "print(w2v_embeddings.most_similar(positive=['uomo', 'filologia'], negative=['donna'], topn=3))"
   ]
  },
  {
   "cell_type": "markdown",
   "metadata": {},
   "source": [
    "## 2. Degree classes stereotypes\n",
    "This experiment investigates gender representation for 30 different degree classes in the Italian university system in the twitter word embeddings.\n",
    "For each degree class, we compute its *gender score*. "
   ]
  },
  {
   "cell_type": "markdown",
   "metadata": {},
   "source": [
    "### 2.1 Define gender direction\n",
    "\n",
    "We define gender direction by the pricipal component of 6 directions extracted from specific gender definitional pairs that largely captures gender in the embedding: `[lui (he), lei (she)], [uomo (man), donna (woman)], [padre (father), madre (mother)], [marito (husband), moglie (wife)], [fratello (brother), sorella (sister)], [maschio (male), femmina (female)]`. This direction helps us to quantify direct and indirect biases in words and associations."
   ]
  },
  {
   "cell_type": "code",
   "execution_count": 98,
   "metadata": {},
   "outputs": [
    {
     "data": {
      "image/png": "[encoded data removed]",
      "text/plain": [
       "<Figure size 432x288 with 1 Axes>"
      ]
     },
     "metadata": {
      "needs_background": "light"
     },
     "output_type": "display_data"
    }
   ],
   "source": [
    "# compute gender direction\n",
    "female_definitional = [\"lei\", \"donna\", \"madre\", \"moglie\", \"sorella\", \"femmina\"]\n",
    "male_definitional = [\"lui\", \"uomo\", \"padre\", \"marito\", \"fratello\", \"maschio\"]\n",
    "gender_definitional_pairs = list(zip(male_definitional, female_definitional))\n",
    "\n",
    "pca = we.doPCA(gender_definitional_pairs, embeddings)\n",
    "gender_direction = pca.components_[0]\n",
    "\n",
    "# plot variance\n",
    "plt.bar(range(10), pca.explained_variance_ratio_)\n",
    "plt.title(\"Pricipal component variance\")\n",
    "plt.xlabel(\"Principal components\")\n",
    "plt.ylabel(\"Percentage of variance explained\")\n",
    "plt.show()"
   ]
  },
  {
   "cell_type": "markdown",
   "metadata": {},
   "source": [
    "### 2.2 Gender bias correlation in degree classes\n",
    "We compute Pearson’s correlation between the gender scores and the percentage of males enrolled in each degree class during the academic year 2020/21. The data about the gender of students enrolled for each degree class are provided by the [MIUR opendata website](http://ustat.miur.it/)."
   ]
  },
  {
   "cell_type": "code",
   "execution_count": 103,
   "metadata": {},
   "outputs": [
    {
     "name": "stderr",
     "output_type": "stream",
     "text": [
      "C:\\Users\\peppe\\AppData\\Local\\Temp\\ipykernel_18640\\1662509786.py:13: SettingWithCopyWarning: \n",
      "A value is trying to be set on a copy of a slice from a DataFrame.\n",
      "Try using .loc[row_indexer,col_indexer] = value instead\n",
      "\n",
      "See the caveats in the documentation: https://pandas.pydata.org/pandas-docs/stable/user_guide/indexing.html#returning-a-view-versus-a-copy\n",
      "  gender_degree_classes['ClasseNOME'] = gender_degree_classes['ClasseNOME'].map(degree_classes_aliases)\n",
      "C:\\Users\\peppe\\AppData\\Local\\Temp\\ipykernel_18640\\1662509786.py:17: SettingWithCopyWarning: \n",
      "A value is trying to be set on a copy of a slice from a DataFrame.\n",
      "Try using .loc[row_indexer,col_indexer] = value instead\n",
      "\n",
      "See the caveats in the documentation: https://pandas.pydata.org/pandas-docs/stable/user_guide/indexing.html#returning-a-view-versus-a-copy\n",
      "  gender_degree_classes['F'] = gender_degree_classes['F']/(total)\n",
      "C:\\Users\\peppe\\AppData\\Local\\Temp\\ipykernel_18640\\1662509786.py:18: SettingWithCopyWarning: \n",
      "A value is trying to be set on a copy of a slice from a DataFrame.\n",
      "Try using .loc[row_indexer,col_indexer] = value instead\n",
      "\n",
      "See the caveats in the documentation: https://pandas.pydata.org/pandas-docs/stable/user_guide/indexing.html#returning-a-view-versus-a-copy\n",
      "  gender_degree_classes['M'] = gender_degree_classes['M']/(total)\n"
     ]
    }
   ],
   "source": [
    "# read the dataset about the gender distrubution in italian degree classes\n",
    "data = pd.read_csv(\"./data/degree_classes.csv\", delimiter=\";\", encoding='latin-1')\n",
    "data = data[data['AnnoA'] == '2020/2021']\n",
    "data = data.pivot_table(columns=['SESSO'], index=['ClasseNOME'], values ='Isc', fill_value=0, aggfunc=sum)\n",
    "data = pd.DataFrame(np.hstack([np.array(data.index).reshape(-1, 1), data.values]), columns=['ClasseNOME', 'F', 'M'])\n",
    "\n",
    "# read the aliases of the interesting degree classes\n",
    "degree_class_aliases = json.load(open(\"./data/degree_classes_aliases.json\", \"r\"))\n",
    "degree_class_names = degree_class_aliases.values()\n",
    "\n",
    "# keep only interesing degree classes\n",
    "gender_degree_classes = data[data['ClasseNOME'].isin(degree_class_aliases.keys())]\n",
    "gender_degree_classes['ClasseNOME'] = gender_degree_classes['ClasseNOME'].map(degree_class_aliases)\n",
    "\n",
    "# change the counts to percentage\n",
    "total = gender_degree_classes['F']+gender_degree_classes['M']\n",
    "gender_degree_classes['F'] = gender_degree_classes['F']/(total)\n",
    "gender_degree_classes['M'] = gender_degree_classes['M']/(total)"
   ]
  },
  {
   "cell_type": "code",
   "execution_count": 95,
   "metadata": {},
   "outputs": [
    {
     "data": {
      "text/html": [
       "<div>\n",
       "<style scoped>\n",
       "    .dataframe tbody tr th:only-of-type {\n",
       "        vertical-align: middle;\n",
       "    }\n",
       "\n",
       "    .dataframe tbody tr th {\n",
       "        vertical-align: top;\n",
       "    }\n",
       "\n",
       "    .dataframe thead th {\n",
       "        text-align: right;\n",
       "    }\n",
       "</style>\n",
       "<table border=\"1\" class=\"dataframe\">\n",
       "  <thead>\n",
       "    <tr style=\"text-align: right;\">\n",
       "      <th></th>\n",
       "      <th>ClasseNOME</th>\n",
       "      <th>F</th>\n",
       "      <th>M</th>\n",
       "    </tr>\n",
       "  </thead>\n",
       "  <tbody>\n",
       "    <tr>\n",
       "      <th>34</th>\n",
       "      <td>automazione</td>\n",
       "      <td>0.161376</td>\n",
       "      <td>0.838624</td>\n",
       "    </tr>\n",
       "    <tr>\n",
       "      <th>26</th>\n",
       "      <td>informatica</td>\n",
       "      <td>0.162022</td>\n",
       "      <td>0.837978</td>\n",
       "    </tr>\n",
       "    <tr>\n",
       "      <th>39</th>\n",
       "      <td>elettronica</td>\n",
       "      <td>0.16318</td>\n",
       "      <td>0.83682</td>\n",
       "    </tr>\n",
       "    <tr>\n",
       "      <th>28</th>\n",
       "      <td>aerospaziale</td>\n",
       "      <td>0.182731</td>\n",
       "      <td>0.817269</td>\n",
       "    </tr>\n",
       "    <tr>\n",
       "      <th>42</th>\n",
       "      <td>industriale</td>\n",
       "      <td>0.234395</td>\n",
       "      <td>0.765605</td>\n",
       "    </tr>\n",
       "    <tr>\n",
       "      <th>37</th>\n",
       "      <td>telecomunicazioni</td>\n",
       "      <td>0.263869</td>\n",
       "      <td>0.736131</td>\n",
       "    </tr>\n",
       "    <tr>\n",
       "      <th>24</th>\n",
       "      <td>fisica</td>\n",
       "      <td>0.271238</td>\n",
       "      <td>0.728762</td>\n",
       "    </tr>\n",
       "    <tr>\n",
       "      <th>114</th>\n",
       "      <td>agraria</td>\n",
       "      <td>0.28292</td>\n",
       "      <td>0.71708</td>\n",
       "    </tr>\n",
       "    <tr>\n",
       "      <th>31</th>\n",
       "      <td>ingegneria</td>\n",
       "      <td>0.28956</td>\n",
       "      <td>0.71044</td>\n",
       "    </tr>\n",
       "    <tr>\n",
       "      <th>23</th>\n",
       "      <td>finanza</td>\n",
       "      <td>0.316045</td>\n",
       "      <td>0.683955</td>\n",
       "    </tr>\n",
       "    <tr>\n",
       "      <th>264</th>\n",
       "      <td>urbanistica</td>\n",
       "      <td>0.351351</td>\n",
       "      <td>0.648649</td>\n",
       "    </tr>\n",
       "    <tr>\n",
       "      <th>125</th>\n",
       "      <td>geologia</td>\n",
       "      <td>0.370248</td>\n",
       "      <td>0.629752</td>\n",
       "    </tr>\n",
       "    <tr>\n",
       "      <th>118</th>\n",
       "      <td>chimica</td>\n",
       "      <td>0.423576</td>\n",
       "      <td>0.576424</td>\n",
       "    </tr>\n",
       "    <tr>\n",
       "      <th>86</th>\n",
       "      <td>economia</td>\n",
       "      <td>0.44669</td>\n",
       "      <td>0.55331</td>\n",
       "    </tr>\n",
       "    <tr>\n",
       "      <th>25</th>\n",
       "      <td>geografia</td>\n",
       "      <td>0.480263</td>\n",
       "      <td>0.519737</td>\n",
       "    </tr>\n",
       "    <tr>\n",
       "      <th>54</th>\n",
       "      <td>matematica</td>\n",
       "      <td>0.497931</td>\n",
       "      <td>0.502069</td>\n",
       "    </tr>\n",
       "    <tr>\n",
       "      <th>61</th>\n",
       "      <td>odontoiatria</td>\n",
       "      <td>0.507381</td>\n",
       "      <td>0.492619</td>\n",
       "    </tr>\n",
       "    <tr>\n",
       "      <th>56</th>\n",
       "      <td>chirurgia</td>\n",
       "      <td>0.574258</td>\n",
       "      <td>0.425742</td>\n",
       "    </tr>\n",
       "    <tr>\n",
       "      <th>3</th>\n",
       "      <td>architettura</td>\n",
       "      <td>0.586465</td>\n",
       "      <td>0.413535</td>\n",
       "    </tr>\n",
       "    <tr>\n",
       "      <th>29</th>\n",
       "      <td>biomedica</td>\n",
       "      <td>0.59929</td>\n",
       "      <td>0.40071</td>\n",
       "    </tr>\n",
       "    <tr>\n",
       "      <th>60</th>\n",
       "      <td>musicologia</td>\n",
       "      <td>0.601439</td>\n",
       "      <td>0.398561</td>\n",
       "    </tr>\n",
       "    <tr>\n",
       "      <th>152</th>\n",
       "      <td>zootecnica</td>\n",
       "      <td>0.62381</td>\n",
       "      <td>0.37619</td>\n",
       "    </tr>\n",
       "    <tr>\n",
       "      <th>53</th>\n",
       "      <td>giurisprudenza</td>\n",
       "      <td>0.635826</td>\n",
       "      <td>0.364174</td>\n",
       "    </tr>\n",
       "    <tr>\n",
       "      <th>93</th>\n",
       "      <td>comunicazione</td>\n",
       "      <td>0.655687</td>\n",
       "      <td>0.344313</td>\n",
       "    </tr>\n",
       "    <tr>\n",
       "      <th>1</th>\n",
       "      <td>archeologia</td>\n",
       "      <td>0.659207</td>\n",
       "      <td>0.340793</td>\n",
       "    </tr>\n",
       "    <tr>\n",
       "      <th>8</th>\n",
       "      <td>biotecnologie</td>\n",
       "      <td>0.676964</td>\n",
       "      <td>0.323036</td>\n",
       "    </tr>\n",
       "    <tr>\n",
       "      <th>21</th>\n",
       "      <td>filologia</td>\n",
       "      <td>0.686721</td>\n",
       "      <td>0.313279</td>\n",
       "    </tr>\n",
       "    <tr>\n",
       "      <th>0</th>\n",
       "      <td>antropologia</td>\n",
       "      <td>0.704088</td>\n",
       "      <td>0.295912</td>\n",
       "    </tr>\n",
       "    <tr>\n",
       "      <th>7</th>\n",
       "      <td>biologia</td>\n",
       "      <td>0.724436</td>\n",
       "      <td>0.275564</td>\n",
       "    </tr>\n",
       "    <tr>\n",
       "      <th>47</th>\n",
       "      <td>letteratura</td>\n",
       "      <td>0.725138</td>\n",
       "      <td>0.274862</td>\n",
       "    </tr>\n",
       "    <tr>\n",
       "      <th>19</th>\n",
       "      <td>farmacia</td>\n",
       "      <td>0.740069</td>\n",
       "      <td>0.259931</td>\n",
       "    </tr>\n",
       "    <tr>\n",
       "      <th>70</th>\n",
       "      <td>psicologia</td>\n",
       "      <td>0.808069</td>\n",
       "      <td>0.191931</td>\n",
       "    </tr>\n",
       "  </tbody>\n",
       "</table>\n",
       "</div>"
      ],
      "text/plain": [
       "            ClasseNOME         F         M\n",
       "34         automazione  0.161376  0.838624\n",
       "26         informatica  0.162022  0.837978\n",
       "39         elettronica   0.16318   0.83682\n",
       "28        aerospaziale  0.182731  0.817269\n",
       "42         industriale  0.234395  0.765605\n",
       "37   telecomunicazioni  0.263869  0.736131\n",
       "24              fisica  0.271238  0.728762\n",
       "114            agraria   0.28292   0.71708\n",
       "31          ingegneria   0.28956   0.71044\n",
       "23             finanza  0.316045  0.683955\n",
       "264        urbanistica  0.351351  0.648649\n",
       "125           geologia  0.370248  0.629752\n",
       "118            chimica  0.423576  0.576424\n",
       "86            economia   0.44669   0.55331\n",
       "25           geografia  0.480263  0.519737\n",
       "54          matematica  0.497931  0.502069\n",
       "61        odontoiatria  0.507381  0.492619\n",
       "56           chirurgia  0.574258  0.425742\n",
       "3         architettura  0.586465  0.413535\n",
       "29           biomedica   0.59929   0.40071\n",
       "60         musicologia  0.601439  0.398561\n",
       "152         zootecnica   0.62381   0.37619\n",
       "53      giurisprudenza  0.635826  0.364174\n",
       "93       comunicazione  0.655687  0.344313\n",
       "1          archeologia  0.659207  0.340793\n",
       "8        biotecnologie  0.676964  0.323036\n",
       "21           filologia  0.686721  0.313279\n",
       "0         antropologia  0.704088  0.295912\n",
       "7             biologia  0.724436  0.275564\n",
       "47         letteratura  0.725138  0.274862\n",
       "19            farmacia  0.740069  0.259931\n",
       "70          psicologia  0.808069  0.191931"
      ]
     },
     "execution_count": 95,
     "metadata": {},
     "output_type": "execute_result"
    }
   ],
   "source": [
    "gender_degree_classes.sort_values(by='F')"
   ]
  },
  {
   "cell_type": "code",
   "execution_count": 136,
   "metadata": {},
   "outputs": [
    {
     "data": {
      "image/png": "[encoded data removed]",
      "text/plain": [
       "<Figure size 1800x216 with 1 Axes>"
      ]
     },
     "metadata": {
      "needs_background": "light"
     },
     "output_type": "display_data"
    }
   ],
   "source": [
    "# compute gender score for each neutral word\n",
    "gender_scores = sorted([(embeddings.v(w).dot(gender_direction), w) for w in degree_class_names])\n",
    "\n",
    "scores = [score for score, _ in gender_scores]\n",
    "labels = [label for _, label in gender_scores]\n",
    "\n",
    "plt.figure(figsize=(25,3))\n",
    "plt.scatter(scores, np.zeros(len(scores)))\n",
    "\n",
    "y_pos = [-0.005, 0.0, 0.005]\n",
    "for i in range(len(labels)):\n",
    "    plt.annotate(labels[i], (scores[i]+0.001, y_pos[i%len(y_pos)]))\n",
    "plt.ylim(-0.03, 0.03)\n",
    "plt.grid()\n",
    "plt.xticks(np.linspace(start=scores[0], stop=scores[-1], num=20))\n",
    "plt.show()"
   ]
  },
  {
   "cell_type": "code",
   "execution_count": 85,
   "metadata": {},
   "outputs": [
    {
     "data": {
      "text/plain": [
       "{'filologia': -0.2156151,\n",
       " 'farmacia': -0.21548882,\n",
       " 'letteratura': -0.18969935,\n",
       " 'psicologia': -0.17892826,\n",
       " 'comunicazione': -0.17500782,\n",
       " 'biologia': -0.17463616,\n",
       " 'chimica': -0.1557592,\n",
       " 'chirurgia': -0.1517362,\n",
       " 'matematica': -0.13189724,\n",
       " 'geografia': -0.12703708,\n",
       " 'musicologia': -0.11215212,\n",
       " 'architettura': -0.10510098,\n",
       " 'finanza': -0.10492946,\n",
       " 'giurisprudenza': -0.100702435,\n",
       " 'economia': -0.089165635,\n",
       " 'telecomunicazioni': -0.07999529,\n",
       " 'archeologia': -0.06305741,\n",
       " 'biomedica': -0.061825,\n",
       " 'antropologia': -0.059949573,\n",
       " 'biotecnologie': -0.042987764,\n",
       " 'ingegneria': -0.038109083,\n",
       " 'geologia': -0.03741597,\n",
       " 'urbanistica': -0.021855347,\n",
       " 'odontoiatria': -0.013330609,\n",
       " 'zootecnica': -0.008894712,\n",
       " 'industriale': -0.005971022,\n",
       " 'fisica': -0.00066844,\n",
       " 'informatica': 0.0052018277,\n",
       " 'elettronica': 0.029125217,\n",
       " 'automazione': 0.049039543,\n",
       " 'aerospaziale': 0.04943816,\n",
       " 'agraria': 0.079377934}"
      ]
     },
     "execution_count": 85,
     "metadata": {},
     "output_type": "execute_result"
    }
   ],
   "source": [
    "dict_ = {b:a for a, b in sp}\n",
    "dict_"
   ]
  },
  {
   "cell_type": "code",
   "execution_count": 86,
   "metadata": {},
   "outputs": [
    {
     "data": {
      "text/plain": [
       "array([[-5.99495731e-02,  2.95912493e-01],\n",
       "       [-6.30574077e-02,  3.40793090e-01],\n",
       "       [-1.05100982e-01,  4.13534789e-01],\n",
       "       [-1.74636155e-01,  2.75564409e-01],\n",
       "       [-4.29877639e-02,  3.23035770e-01],\n",
       "       [-2.15488821e-01,  2.59931219e-01],\n",
       "       [-2.15615094e-01,  3.13279133e-01],\n",
       "       [-1.04929462e-01,  6.83954619e-01],\n",
       "       [-6.68440014e-04,  7.28761994e-01],\n",
       "       [-1.27037078e-01,  5.19736842e-01],\n",
       "       [ 5.20182773e-03,  8.37978369e-01],\n",
       "       [ 4.94381599e-02,  8.17268596e-01],\n",
       "       [-6.18249997e-02,  4.00709882e-01],\n",
       "       [-3.81090827e-02,  7.10439560e-01],\n",
       "       [ 4.90395427e-02,  8.38624339e-01],\n",
       "       [-7.99952894e-02,  7.36130536e-01],\n",
       "       [ 2.91252173e-02,  8.36820084e-01],\n",
       "       [-5.97102195e-03,  7.65605227e-01],\n",
       "       [-1.89699352e-01,  2.74862405e-01],\n",
       "       [-1.00702435e-01,  3.64173536e-01],\n",
       "       [-1.31897241e-01,  5.02068558e-01],\n",
       "       [-1.51736200e-01,  4.25741843e-01],\n",
       "       [-1.12152122e-01,  3.98561151e-01],\n",
       "       [-1.33306086e-02,  4.92619347e-01],\n",
       "       [-1.78928256e-01,  1.91931483e-01],\n",
       "       [-8.91656354e-02,  5.53309685e-01],\n",
       "       [-1.75007820e-01,  3.44313082e-01],\n",
       "       [ 7.93779343e-02,  7.17080292e-01],\n",
       "       [-1.55759200e-01,  5.76423576e-01],\n",
       "       [-3.74159701e-02,  6.29752066e-01],\n",
       "       [-8.89471173e-03,  3.76190476e-01],\n",
       "       [-2.18553469e-02,  6.48648649e-01]])"
      ]
     },
     "execution_count": 86,
     "metadata": {},
     "output_type": "execute_result"
    }
   ],
   "source": [
    "pairs = np.array([[dict_[row['ClasseNOME']], row['M']] for i, row in gender_degree_classes.iterrows()])\n",
    "pairs"
   ]
  },
  {
   "cell_type": "code",
   "execution_count": 87,
   "metadata": {},
   "outputs": [],
   "source": [
    "gender_score, female_perc = pairs[:,0], pairs[:,1]"
   ]
  },
  {
   "cell_type": "code",
   "execution_count": 88,
   "metadata": {},
   "outputs": [
    {
     "data": {
      "text/plain": [
       "Text(0, 0.5, 'Percentage of male')"
      ]
     },
     "execution_count": 88,
     "metadata": {},
     "output_type": "execute_result"
    },
    {
     "data": {
      "image/png": "[encoded data removed]",
      "text/plain": [
       "<Figure size 864x576 with 1 Axes>"
      ]
     },
     "metadata": {
      "needs_background": "light"
     },
     "output_type": "display_data"
    }
   ],
   "source": [
    "plt.figure(figsize=(12,8))\n",
    "plt.scatter(gender_score, female_perc)\n",
    "for i in range(len(gender_degree_classes)):\n",
    "    plt.annotate(gender_degree_classes['ClasseNOME'].tolist()[i], (gender_score[i], female_perc[i] + 0.01))\n",
    "plt.grid()\n",
    "plt.xlabel(\"Gender score\")\n",
    "plt.ylabel(\"Percentage of male\")"
   ]
  },
  {
   "cell_type": "code",
   "execution_count": 89,
   "metadata": {},
   "outputs": [
    {
     "name": "stdout",
     "output_type": "stream",
     "text": [
      "Correlation:  0.7303199450216565\n"
     ]
    }
   ],
   "source": [
    "import scipy\n",
    "print(\"Correlation: \", scipy.stats.pearsonr(gender_score, female_perc)[0])"
   ]
  },
  {
   "cell_type": "code",
   "execution_count": 25,
   "metadata": {},
   "outputs": [
    {
     "data": {
      "text/plain": [
       "[(-0.21548882, 'farmacia'),\n",
       " (-0.18969935, 'letteratura'),\n",
       " (-0.17892826, 'psicologia'),\n",
       " (-0.17500782, 'comunicazione'),\n",
       " (-0.17463616, 'biologia'),\n",
       " (-0.1557592, 'chimica'),\n",
       " (-0.1517362, 'chirurgia'),\n",
       " (-0.13189724, 'matematica'),\n",
       " (-0.12703708, 'geografia'),\n",
       " (-0.11215212, 'musicologia'),\n",
       " (-0.10510098, 'architettura'),\n",
       " (-0.10492946, 'finanza'),\n",
       " (-0.100702435, 'giurisprudenza'),\n",
       " (-0.089165635, 'economia'),\n",
       " (-0.08888879, 'lingue'),\n",
       " (-0.08576076, 'lettere'),\n",
       " (-0.06305741, 'archeologia'),\n",
       " (-0.061825, 'biomedica'),\n",
       " (-0.059949573, 'antropologia'),\n",
       " (-0.042987764, 'biotecnologie'),\n",
       " (-0.038669314, 'sociologia'),\n",
       " (-0.038109083, 'ingegneria'),\n",
       " (-0.03741597, 'geologia'),\n",
       " (-0.021855347, 'urbanistica'),\n",
       " (-0.013330609, 'odontoiatria'),\n",
       " (-0.008894712, 'zootecnica'),\n",
       " (-0.00066844, 'fisica'),\n",
       " (0.0052018277, 'informatica'),\n",
       " (0.029125217, 'elettronica'),\n",
       " (0.049039543, 'automazione'),\n",
       " (0.04943816, 'aerospaziale'),\n",
       " (0.079377934, 'agraria')]"
      ]
     },
     "execution_count": 25,
     "metadata": {},
     "output_type": "execute_result"
    }
   ],
   "source": [
    "sp = sorted([(embeddings.v(w).dot(gender_direction), w) for w in degree_classes_aliases.values()])\n",
    "sp"
   ]
  },
  {
   "cell_type": "markdown",
   "metadata": {},
   "source": [
    "## 3. Debias"
   ]
  },
  {
   "cell_type": "code",
   "execution_count": 26,
   "metadata": {},
   "outputs": [],
   "source": [
    "def debias(E, biased_words, definitional, equalize):\n",
    "    gender_direction = we.doPCA(definitional, E).components_[0]\n",
    "    \n",
    "    for i, w in enumerate(E.words):\n",
    "        # For each word which is not gender specific, we remove the gendere direction.\n",
    "        if w in biased_words:\n",
    "            E.vecs[i] = we.drop(E.vecs[i], gender_direction)\n",
    "    E.normalize()\n",
    "\n",
    "    # print(candidates)\n",
    "    for (a, b) in equalize:\n",
    "        #  Centrano il centro della coppia delle parole gender specific.\n",
    "        \n",
    "        if (a in E.index and b in E.index):\n",
    "            y = we.drop((E.v(a) + E.v(b)) / 2, gender_direction)\n",
    "            z = np.sqrt(1 - np.linalg.norm(y)**2)\n",
    "            if (E.v(a) - E.v(b)).dot(gender_direction) < 0:\n",
    "                z = -z\n",
    "            E.vecs[E.index[a]] = z * gender_direction + y\n",
    "            E.vecs[E.index[b]] = -z * gender_direction + y\n",
    "    E.normalize()"
   ]
  },
  {
   "cell_type": "code",
   "execution_count": null,
   "metadata": {},
   "outputs": [],
   "source": []
  },
  {
   "cell_type": "code",
   "execution_count": 27,
   "metadata": {},
   "outputs": [],
   "source": [
    "# Lets load some gender related word lists to help us with debiasing\n",
    "\n",
    "with open('./data/equalize_pairs_it.json', \"r\") as f:\n",
    "    equalize_pairs = json.load(f)"
   ]
  },
  {
   "cell_type": "code",
   "execution_count": 28,
   "metadata": {},
   "outputs": [],
   "source": [
    "embeddings_deb = embeddings"
   ]
  },
  {
   "cell_type": "code",
   "execution_count": 29,
   "metadata": {},
   "outputs": [
    {
     "name": "stdout",
     "output_type": "stream",
     "text": [
      "327168 words of dimension 128 : di, che, e, a, ..., onqew, leadershipnon, yzibykeju, sbaraglliato\n",
      "327168 words of dimension 128 : di, che, e, a, ..., onqew, leadershipnon, yzibykeju, sbaraglliato\n"
     ]
    }
   ],
   "source": [
    "    \n",
    "for i, w in enumerate(embeddings_deb.words):\n",
    "    # For each word which is not gender specific, we remove the gendere direction.\n",
    "    if w in degree_classes_aliases.values():\n",
    "        embeddings_deb.vecs[i] = we.drop(embeddings_deb.vecs[i], gender_direction)\n",
    "embeddings_deb.normalize()\n",
    "\n",
    "# print(candidates)\n",
    "for (a, b) in equalize_pairs:\n",
    "    #  Centrano il centro della coppia delle parole gender specific.\n",
    "    \n",
    "    if (a in embeddings_deb.index and b in embeddings_deb.index):\n",
    "        y = we.drop((embeddings_deb.v(a) + embeddings_deb.v(b)) / 2, gender_direction)\n",
    "        z = np.sqrt(1 - np.linalg.norm(y)**2)\n",
    "        if (embeddings_deb.v(a) - embeddings_deb.v(b)).dot(gender_direction) < 0:\n",
    "            z = -z\n",
    "        embeddings_deb.vecs[embeddings_deb.index[a]] = z * gender_direction + y\n",
    "        embeddings_deb.vecs[embeddings_deb.index[b]] = -z * gender_direction + y\n",
    "embeddings_deb.normalize()"
   ]
  },
  {
   "cell_type": "code",
   "execution_count": 30,
   "metadata": {},
   "outputs": [
    {
     "data": {
      "text/plain": [
       "[(-2.6077032e-08, 'ingegneria'),\n",
       " (-1.7695129e-08, 'odontoiatria'),\n",
       " (-1.4901161e-08, 'farmacia'),\n",
       " (-1.4901161e-08, 'psicologia'),\n",
       " (-1.3038516e-08, 'comunicazione'),\n",
       " (-7.450581e-09, 'geologia'),\n",
       " (-3.7252903e-09, 'lingue'),\n",
       " (0.0, 'architettura'),\n",
       " (0.0, 'automazione'),\n",
       " (0.0, 'biologia'),\n",
       " (0.0, 'elettronica'),\n",
       " (0.0, 'finanza'),\n",
       " (0.0, 'fisica'),\n",
       " (0.0, 'informatica'),\n",
       " (0.0, 'urbanistica'),\n",
       " (3.7252903e-09, 'aerospaziale'),\n",
       " (3.7252903e-09, 'agraria'),\n",
       " (3.7252903e-09, 'chimica'),\n",
       " (3.7252903e-09, 'matematica'),\n",
       " (5.5879354e-09, 'zootecnica'),\n",
       " (7.450581e-09, 'economia'),\n",
       " (7.450581e-09, 'lettere'),\n",
       " (7.450581e-09, 'sociologia'),\n",
       " (1.1175871e-08, 'archeologia'),\n",
       " (1.3504177e-08, 'biotecnologie'),\n",
       " (1.4901161e-08, 'musicologia'),\n",
       " (1.8626451e-08, 'giurisprudenza'),\n",
       " (2.2351742e-08, 'antropologia'),\n",
       " (2.6077032e-08, 'geografia'),\n",
       " (2.9336661e-08, 'biomedica'),\n",
       " (4.0978193e-08, 'letteratura'),\n",
       " (4.4703484e-08, 'chirurgia')]"
      ]
     },
     "execution_count": 30,
     "metadata": {},
     "output_type": "execute_result"
    }
   ],
   "source": [
    "sp = sorted([(embeddings_deb.v(w).dot(gender_direction), w) for w in degree_classes_aliases.values()])\n",
    "sp"
   ]
  },
  {
   "cell_type": "code",
   "execution_count": 31,
   "metadata": {},
   "outputs": [],
   "source": [
    "# convert WordEmbedding into word2vec format\n",
    "tmp_file='./embeddings/twitter_w2v_debiased.bin'\n",
    "embeddings_deb.save_w2v(tmp_file)\n",
    "w2v_embeddings_deb = KeyedVectors.load_word2vec_format(tmp_file, binary=True)"
   ]
  },
  {
   "cell_type": "markdown",
   "metadata": {},
   "source": [
    "### Pre-debias analogies"
   ]
  },
  {
   "cell_type": "code",
   "execution_count": 62,
   "metadata": {},
   "outputs": [
    {
     "name": "stdout",
     "output_type": "stream",
     "text": [
      "uomo : informatica = donna : x\n",
      "[('psicologia', 0.6140111684799194), ('specializzazione', 0.5994383692741394), ('studentessa', 0.5955289006233215)]\n",
      "\n",
      "donna : psicologia = uomo : x\n",
      "[('anatomia', 0.6581255197525024), ('antropologia', 0.657562255859375), ('elettromagnetismo', 0.640263557434082)]\n"
     ]
    }
   ],
   "source": [
    "print(\"uomo : informatica = donna : x\")\n",
    "print(w2v_embeddings.most_similar(positive=['donna', 'informatica'], negative=['uomo'], topn=3))\n",
    "print(\"\\ndonna : psicologia = uomo : x\")\n",
    "print(w2v_embeddings.most_similar(positive=['uomo', 'psicologia'], negative=['donna'], topn=3))"
   ]
  },
  {
   "cell_type": "markdown",
   "metadata": {},
   "source": [
    "### Post debiasing"
   ]
  },
  {
   "cell_type": "code",
   "execution_count": 64,
   "metadata": {},
   "outputs": [
    {
     "name": "stdout",
     "output_type": "stream",
     "text": [
      "uomo : informatica = donna : x\n",
      "[('programmatrice', 0.6678431034088135), ('meccanica', 0.6505824327468872), ('impiegata', 0.6390291452407837)]\n",
      "\n",
      "donna : psicologia = uomo : x\n",
      "[('psicologo', 0.6767999529838562), ('formatore', 0.6330790519714355), ('meccanico', 0.6328354477882385)]\n"
     ]
    }
   ],
   "source": [
    "print(\"uomo : informatica = donna : x\")\n",
    "print(w2v_embeddings_deb.most_similar(positive=['donna', 'informatica'], negative=['uomo'], topn=3))\n",
    "print(\"\\ndonna : psicologia = uomo : x\")\n",
    "print(w2v_embeddings_deb.most_similar(positive=['uomo', 'psicologia'], negative=['donna'], topn=3))"
   ]
  },
  {
   "cell_type": "code",
   "execution_count": 48,
   "metadata": {},
   "outputs": [
    {
     "data": {
      "text/plain": [
       "[(-0.46537837, 'donna'),\n",
       " (-0.45267403, 'sorella'),\n",
       " (-0.43998706, 'madre'),\n",
       " (-0.42378587, 'moglie'),\n",
       " (-0.28490245, 'femmina'),\n",
       " (-0.24853405, 'lei')]"
      ]
     },
     "execution_count": 48,
     "metadata": {},
     "output_type": "execute_result"
    }
   ],
   "source": [
    "sp = sorted([(embeddings_deb.v(w).dot(gender_direction), w) for w in female_definitional])\n",
    "sp"
   ]
  },
  {
   "cell_type": "markdown",
   "metadata": {},
   "source": [
    "### Metrics"
   ]
  },
  {
   "cell_type": "code",
   "execution_count": 45,
   "metadata": {},
   "outputs": [],
   "source": [
    "def normalized_attribute_set(attribute_set, embedding_dim):\n",
    "    sum_att_vector = np.zeros(embedding_dim,dtype=object)\n",
    "    for a in attribute_set:\n",
    "        normalized_a = a/np.linalg.norm(a)\n",
    "        sum_att_vector += normalized_a\n",
    "    print(len(attribute_set))\n",
    "    return sum_att_vector/len(attribute_set)\n",
    "\n",
    "def pairwise_bias(first_attribute_set,second_attribute_set,embedded_word):\n",
    "    normalized_first_set = normalized_attribute_set(first_attribute_set,128)\n",
    "    normalized_second_set = normalized_attribute_set(second_attribute_set,128)\n",
    "    \n",
    "    diff_set = normalized_first_set-normalized_second_set\n",
    "    print(type(embedded_word))\n",
    "    print(type(diff_set))\n",
    "    bias_value = np.dot(embedded_word,diff_set) / (np.linalg.norm(embedded_word)*np.linalg.norm(diff_set))\n",
    "\n",
    "    return bias_value\n",
    "\n",
    "def bias_score(embedded_word_set,first_attribute_set,second_attribute_set):\n",
    "    bias_score = 0\n",
    "    for word in embedded_word_set:\n",
    "        bias_score += np.abs(pairwise_bias(first_attribute_set,second_attribute_set,word))\n",
    "    \n",
    "    return (bias_score/len(embedded_word_set))\n",
    "\n",
    "def skew_bias_score(embedded_word_set,first_attribute_set,second_attribute_set):\n",
    "    skew_score = 0\n",
    "    for word in embedded_word_set:\n",
    "        skew_score += pairwise_bias(first_attribute_set,second_attribute_set,word)\n",
    "    \n",
    "    return (skew_score/len(embedded_word_set))\n",
    "\n",
    "def stereotype_bias_score(embedded_word_set,first_attribute_set,second_attribute_set):\n",
    "    skew_score = skew_bias_score(embedded_word_set,first_attribute_set,second_attribute_set)\n",
    "    stereotype_score = 0\n",
    "    for word in embedded_word_set:\n",
    "        stereotype_score  += (pairwise_bias(first_attribute_set,second_attribute_set,word) - skew_score)**2\n",
    "\n",
    "    return (np.sqrt(stereotype_score)/len(embedded_word_set))"
   ]
  },
  {
   "cell_type": "code",
   "execution_count": null,
   "metadata": {},
   "outputs": [],
   "source": []
  },
  {
   "cell_type": "code",
   "execution_count": 46,
   "metadata": {},
   "outputs": [],
   "source": [
    "emb_words_pre_deb = [ embeddings.v(word) for word in degree_classes_aliases.values()]\n",
    "emb_words_post_deb = [ embeddings_deb.v(word) for word in degree_classes_aliases.values()]\n",
    "female_set = [embeddings.v(w) for w in female_definitional]\n",
    "male_set = [ E.vecs[E.index[w]] for w in male_words ]"
   ]
  },
  {
   "cell_type": "code",
   "execution_count": 47,
   "metadata": {},
   "outputs": [
    {
     "ename": "ValueError",
     "evalue": "could not convert string to float: 'lui'",
     "output_type": "error",
     "traceback": [
      "\u001b[1;31m---------------------------------------------------------------------------\u001b[0m",
      "\u001b[1;31mValueError\u001b[0m                                Traceback (most recent call last)",
      "\u001b[1;32mc:\\Users\\peppe\\UNIBO\\Ethics for AI\\presentation\\unbiasing_nlp_embeddings\\debiasing_itwac.ipynb Cell 43'\u001b[0m in \u001b[0;36m<cell line: 2>\u001b[1;34m()\u001b[0m\n\u001b[0;32m      <a href='vscode-notebook-cell:/c%3A/Users/peppe/UNIBO/Ethics%20for%20AI/presentation/unbiasing_nlp_embeddings/debiasing_itwac.ipynb#ch0000047?line=0'>1</a>\u001b[0m \u001b[39m# pre-debiased\u001b[39;00m\n\u001b[1;32m----> <a href='vscode-notebook-cell:/c%3A/Users/peppe/UNIBO/Ethics%20for%20AI/presentation/unbiasing_nlp_embeddings/debiasing_itwac.ipynb#ch0000047?line=1'>2</a>\u001b[0m value \u001b[39m=\u001b[39m bias_score(emb_words_pre_deb,male_definitional,female_definitional)\n\u001b[0;32m      <a href='vscode-notebook-cell:/c%3A/Users/peppe/UNIBO/Ethics%20for%20AI/presentation/unbiasing_nlp_embeddings/debiasing_itwac.ipynb#ch0000047?line=2'>3</a>\u001b[0m value_skew \u001b[39m=\u001b[39m skew_bias_score(emb_words_pre_deb,male_definitional,female_definitional)\n\u001b[0;32m      <a href='vscode-notebook-cell:/c%3A/Users/peppe/UNIBO/Ethics%20for%20AI/presentation/unbiasing_nlp_embeddings/debiasing_itwac.ipynb#ch0000047?line=3'>4</a>\u001b[0m value_single \u001b[39m=\u001b[39m pairwise_bias(male_definitional, female_definitional, embeddings\u001b[39m.\u001b[39mv(\u001b[39m\"\u001b[39m\u001b[39minformatica\u001b[39m\u001b[39m\"\u001b[39m))\n",
      "\u001b[1;32mc:\\Users\\peppe\\UNIBO\\Ethics for AI\\presentation\\unbiasing_nlp_embeddings\\debiasing_itwac.ipynb Cell 41'\u001b[0m in \u001b[0;36mbias_score\u001b[1;34m(embedded_word_set, first_attribute_set, second_attribute_set)\u001b[0m\n\u001b[0;32m     <a href='vscode-notebook-cell:/c%3A/Users/peppe/UNIBO/Ethics%20for%20AI/presentation/unbiasing_nlp_embeddings/debiasing_itwac.ipynb#ch0000044?line=20'>21</a>\u001b[0m bias_score \u001b[39m=\u001b[39m \u001b[39m0\u001b[39m\n\u001b[0;32m     <a href='vscode-notebook-cell:/c%3A/Users/peppe/UNIBO/Ethics%20for%20AI/presentation/unbiasing_nlp_embeddings/debiasing_itwac.ipynb#ch0000044?line=21'>22</a>\u001b[0m \u001b[39mfor\u001b[39;00m word \u001b[39min\u001b[39;00m embedded_word_set:\n\u001b[1;32m---> <a href='vscode-notebook-cell:/c%3A/Users/peppe/UNIBO/Ethics%20for%20AI/presentation/unbiasing_nlp_embeddings/debiasing_itwac.ipynb#ch0000044?line=22'>23</a>\u001b[0m     bias_score \u001b[39m+\u001b[39m\u001b[39m=\u001b[39m np\u001b[39m.\u001b[39mabs(pairwise_bias(first_attribute_set,second_attribute_set,word))\n\u001b[0;32m     <a href='vscode-notebook-cell:/c%3A/Users/peppe/UNIBO/Ethics%20for%20AI/presentation/unbiasing_nlp_embeddings/debiasing_itwac.ipynb#ch0000044?line=24'>25</a>\u001b[0m \u001b[39mreturn\u001b[39;00m (bias_score\u001b[39m/\u001b[39m\u001b[39mlen\u001b[39m(embedded_word_set))\n",
      "\u001b[1;32mc:\\Users\\peppe\\UNIBO\\Ethics for AI\\presentation\\unbiasing_nlp_embeddings\\debiasing_itwac.ipynb Cell 41'\u001b[0m in \u001b[0;36mpairwise_bias\u001b[1;34m(first_attribute_set, second_attribute_set, embedded_word)\u001b[0m\n\u001b[0;32m      <a href='vscode-notebook-cell:/c%3A/Users/peppe/UNIBO/Ethics%20for%20AI/presentation/unbiasing_nlp_embeddings/debiasing_itwac.ipynb#ch0000044?line=8'>9</a>\u001b[0m \u001b[39mdef\u001b[39;00m \u001b[39mpairwise_bias\u001b[39m(first_attribute_set,second_attribute_set,embedded_word):\n\u001b[1;32m---> <a href='vscode-notebook-cell:/c%3A/Users/peppe/UNIBO/Ethics%20for%20AI/presentation/unbiasing_nlp_embeddings/debiasing_itwac.ipynb#ch0000044?line=9'>10</a>\u001b[0m     normalized_first_set \u001b[39m=\u001b[39m normalized_attribute_set(first_attribute_set,\u001b[39m128\u001b[39;49m)\n\u001b[0;32m     <a href='vscode-notebook-cell:/c%3A/Users/peppe/UNIBO/Ethics%20for%20AI/presentation/unbiasing_nlp_embeddings/debiasing_itwac.ipynb#ch0000044?line=10'>11</a>\u001b[0m     normalized_second_set \u001b[39m=\u001b[39m normalized_attribute_set(second_attribute_set,\u001b[39m128\u001b[39m)\n\u001b[0;32m     <a href='vscode-notebook-cell:/c%3A/Users/peppe/UNIBO/Ethics%20for%20AI/presentation/unbiasing_nlp_embeddings/debiasing_itwac.ipynb#ch0000044?line=12'>13</a>\u001b[0m     diff_set \u001b[39m=\u001b[39m normalized_first_set\u001b[39m-\u001b[39mnormalized_second_set\n",
      "\u001b[1;32mc:\\Users\\peppe\\UNIBO\\Ethics for AI\\presentation\\unbiasing_nlp_embeddings\\debiasing_itwac.ipynb Cell 41'\u001b[0m in \u001b[0;36mnormalized_attribute_set\u001b[1;34m(attribute_set, embedding_dim)\u001b[0m\n\u001b[0;32m      <a href='vscode-notebook-cell:/c%3A/Users/peppe/UNIBO/Ethics%20for%20AI/presentation/unbiasing_nlp_embeddings/debiasing_itwac.ipynb#ch0000044?line=1'>2</a>\u001b[0m sum_att_vector \u001b[39m=\u001b[39m np\u001b[39m.\u001b[39mzeros(embedding_dim,dtype\u001b[39m=\u001b[39m\u001b[39mobject\u001b[39m)\n\u001b[0;32m      <a href='vscode-notebook-cell:/c%3A/Users/peppe/UNIBO/Ethics%20for%20AI/presentation/unbiasing_nlp_embeddings/debiasing_itwac.ipynb#ch0000044?line=2'>3</a>\u001b[0m \u001b[39mfor\u001b[39;00m a \u001b[39min\u001b[39;00m attribute_set:\n\u001b[1;32m----> <a href='vscode-notebook-cell:/c%3A/Users/peppe/UNIBO/Ethics%20for%20AI/presentation/unbiasing_nlp_embeddings/debiasing_itwac.ipynb#ch0000044?line=3'>4</a>\u001b[0m     normalized_a \u001b[39m=\u001b[39m a\u001b[39m/\u001b[39mnp\u001b[39m.\u001b[39;49mlinalg\u001b[39m.\u001b[39;49mnorm(a)\n\u001b[0;32m      <a href='vscode-notebook-cell:/c%3A/Users/peppe/UNIBO/Ethics%20for%20AI/presentation/unbiasing_nlp_embeddings/debiasing_itwac.ipynb#ch0000044?line=4'>5</a>\u001b[0m     sum_att_vector \u001b[39m+\u001b[39m\u001b[39m=\u001b[39m normalized_a\n\u001b[0;32m      <a href='vscode-notebook-cell:/c%3A/Users/peppe/UNIBO/Ethics%20for%20AI/presentation/unbiasing_nlp_embeddings/debiasing_itwac.ipynb#ch0000044?line=5'>6</a>\u001b[0m \u001b[39mprint\u001b[39m(\u001b[39mlen\u001b[39m(attribute_set))\n",
      "File \u001b[1;32m<__array_function__ internals>:5\u001b[0m, in \u001b[0;36mnorm\u001b[1;34m(*args, **kwargs)\u001b[0m\n",
      "File \u001b[1;32m~\\anaconda3\\envs\\nlp\\lib\\site-packages\\numpy\\linalg\\linalg.py:2517\u001b[0m, in \u001b[0;36mnorm\u001b[1;34m(x, ord, axis, keepdims)\u001b[0m\n\u001b[0;32m   <a href='file:///c%3A/Users/peppe/anaconda3/envs/nlp/lib/site-packages/numpy/linalg/linalg.py?line=2513'>2514</a>\u001b[0m x \u001b[39m=\u001b[39m asarray(x)\n\u001b[0;32m   <a href='file:///c%3A/Users/peppe/anaconda3/envs/nlp/lib/site-packages/numpy/linalg/linalg.py?line=2515'>2516</a>\u001b[0m \u001b[39mif\u001b[39;00m \u001b[39mnot\u001b[39;00m \u001b[39missubclass\u001b[39m(x\u001b[39m.\u001b[39mdtype\u001b[39m.\u001b[39mtype, (inexact, object_)):\n\u001b[1;32m-> <a href='file:///c%3A/Users/peppe/anaconda3/envs/nlp/lib/site-packages/numpy/linalg/linalg.py?line=2516'>2517</a>\u001b[0m     x \u001b[39m=\u001b[39m x\u001b[39m.\u001b[39;49mastype(\u001b[39mfloat\u001b[39;49m)\n\u001b[0;32m   <a href='file:///c%3A/Users/peppe/anaconda3/envs/nlp/lib/site-packages/numpy/linalg/linalg.py?line=2518'>2519</a>\u001b[0m \u001b[39m# Immediately handle some default, simple, fast, and common cases.\u001b[39;00m\n\u001b[0;32m   <a href='file:///c%3A/Users/peppe/anaconda3/envs/nlp/lib/site-packages/numpy/linalg/linalg.py?line=2519'>2520</a>\u001b[0m \u001b[39mif\u001b[39;00m axis \u001b[39mis\u001b[39;00m \u001b[39mNone\u001b[39;00m:\n",
      "\u001b[1;31mValueError\u001b[0m: could not convert string to float: 'lui'"
     ]
    }
   ],
   "source": [
    "# pre-debiased\n",
    "\n",
    "value = bias_score(emb_words_pre_deb,male_definitional,female_definitional)\n",
    "value_skew = skew_bias_score(emb_words_pre_deb,male_definitional,female_definitional)\n",
    "value_single = pairwise_bias(male_definitional, female_definitional, embeddings.v(\"informatica\"))\n",
    "print(value_single)\n",
    "print(value)\n",
    "print(value_skew)"
   ]
  }
 ],
 "metadata": {
  "interpreter": {
   "hash": "8218bdb2dad6187c4b0f3e84e26c53ed9d719227dd49e3deae672e3e8481b4c5"
  },
  "kernelspec": {
   "display_name": "Python 3.9.7 ('nlp')",
   "language": "python",
   "name": "python3"
  },
  "language_info": {
   "codemirror_mode": {
    "name": "ipython",
    "version": 3
   },
   "file_extension": ".py",
   "mimetype": "text/x-python",
   "name": "python",
   "nbconvert_exporter": "python",
   "pygments_lexer": "ipython3",
   "version": "3.9.7"
  },
  "orig_nbformat": 4
 },
 "nbformat": 4,
 "nbformat_minor": 2
}
