{
 "cells": [
  {
   "cell_type": "markdown",
   "metadata": {},
   "source": [
    "# Debiasing italian word embeddings"
   ]
  },
  {
   "cell_type": "markdown",
   "metadata": {},
   "source": [
    "### Downlaod data \n",
    "First of all, you need to download the Italian web corpus (itWaC) embeddings, an Italian corpus made up of texts collected from the Internet, from the following link [here](https://drive.google.com/file/d/1eq2Ehc8Tpj_9oFPVSFdZ1aN9YJm7J55s/view?usp=sharing) and insert the file into the `embeddings` folder."
   ]
  },
  {
   "cell_type": "code",
   "execution_count": 4,
   "metadata": {},
   "outputs": [],
   "source": [
    "from matplotlib import pyplot as plt\n",
    "import numpy as np\n",
    "\n",
    "import debiaswe.we as we\n",
    "from debiaswe.we import WordEmbedding\n",
    "\n",
    "import tqdm"
   ]
  },
  {
   "cell_type": "markdown",
   "metadata": {},
   "source": [
    "## 1. Analysis of the embeddings"
   ]
  },
  {
   "cell_type": "code",
   "execution_count": 2,
   "metadata": {},
   "outputs": [
    {
     "name": "stdout",
     "output_type": "stream",
     "text": [
      "*** Reading data from ./embeddings/filtered_itwac128.tsv\n",
      "(537325, 128)\n",
      "537325 words of dimension 128 : di, e, che, la, ..., checcosf, dacris, pawprint, eorismo\n"
     ]
    }
   ],
   "source": [
    "# load the word embeddings\n",
    "E = WordEmbedding('./embeddings/filtered_itwac128.tsv')"
   ]
  },
  {
   "cell_type": "markdown",
   "metadata": {},
   "source": [
    "### 1.1 Define gender direction\n",
    "\n",
    "We define gender direction by the pricipal component of 6 directions extracted from specific gender pairs like `\"lei\"-\"lui\"`, `\"donna\"-\"uomo\"`, etc., that largely captures gender in the embedding. This direction helps us to quantify direct and indirect biases in words and associations."
   ]
  },
  {
   "cell_type": "code",
   "execution_count": 12,
   "metadata": {},
   "outputs": [
    {
     "data": {
      "image/png": "[encoded data removed]",
      "text/plain": [
       "<Figure size 432x288 with 1 Axes>"
      ]
     },
     "metadata": {
      "needs_background": "light"
     },
     "output_type": "display_data"
    }
   ],
   "source": [
    "# compute gender direction\n",
    "female_definitional = [\"lei\", \"donna\", \"madre\", \"moglie\", \"sorella\", \"femmina\"]\n",
    "male_definitional = [\"lui\", \"uomo\", \"padre\", \"marito\", \"fratello\", \"maschio\"]\n",
    "gender_definitional_pairs = list(zip(male_definitional, female_definitional))\n",
    "\n",
    "gender_direction = we.doPCA(gender_definitional_pairs, E).components_[0]\n",
    "\n",
    "# plot variance\n",
    "plt.bar(range(10), we.doPCA(gender_definitional_pairs, E).explained_variance_ratio_)\n",
    "plt.title(\"Pricipal component variance\")\n",
    "plt.show()"
   ]
  },
  {
   "cell_type": "markdown",
   "metadata": {},
   "source": [
    "### 1.2 Exploit relations between words computing analogies"
   ]
  },
  {
   "cell_type": "code",
   "execution_count": 36,
   "metadata": {},
   "outputs": [
    {
     "name": "stdout",
     "output_type": "stream",
     "text": [
      "Most similar:\n"
     ]
    },
    {
     "name": "stderr",
     "output_type": "stream",
     "text": [
      "C:\\Users\\peppe\\anaconda3\\envs\\nlp\\lib\\site-packages\\scipy\\spatial\\distance.py:630: RuntimeWarning: invalid value encountered in float_scalars\n",
      "  dist = 1.0 - uv / np.sqrt(uu * vv)\n"
     ]
    },
    {
     "data": {
      "text/plain": [
       "[('roma', 0),\n",
       " ('francia', 0.3229256272315979),\n",
       " ('italia', 0.42631858587265015),\n",
       " ('germania', 0.4459470510482788),\n",
       " ('europa', 0.5026416480541229),\n",
       " ('svezia', 0.506334513425827),\n",
       " ('secundis', 0.5192542672157288),\n",
       " ('korea', 0.5282283425331116),\n",
       " ('america', 0.5477666258811951),\n",
       " ('soka', 0.5480005145072937)]"
      ]
     },
     "execution_count": 36,
     "metadata": {},
     "output_type": "execute_result"
    }
   ],
   "source": [
    "from scipy.spatial import distance\n",
    "def analogy(positive1, negative1, positive2, embedding, ntop=10):\n",
    "    relationship_1 = embedding.v(positive1) - embedding.v(negative1)\n",
    "    relationship_2 = [embedding.v(positive2) - embedding.v(word) for word in embedding.words]\n",
    "\n",
    "    similarities = {i: distance.cosine(relationship_1, rel2) for i, rel2 in enumerate(relationship_2)}\n",
    "\n",
    "    # sort similarities by value\n",
    "    similarities = dict(sorted(similarities.items(), key=lambda x: x[1]))\n",
    "\n",
    "    idx_to_word = {i: w for w, i in embedding.index.items()}\n",
    "    return [(idx_to_word[i], value) for i, value in list(similarities.items())[:ntop]]\n",
    "\n",
    "print(\"Most similar:\") \n",
    "analogy(positive1=\"parigi\", negative1=\"francia\", positive2=\"roma\", embedding=E, ntop=10)"
   ]
  },
  {
   "cell_type": "code",
   "execution_count": 24,
   "metadata": {},
   "outputs": [
    {
     "data": {
      "text/plain": [
       "['comunicazione',\n",
       " 'informazione',\n",
       " 'trasmissione',\n",
       " 'consultazione',\n",
       " 'veicolazione',\n",
       " 'ricezione',\n",
       " 'conoscenza',\n",
       " 'pubblicizzazione',\n",
       " 'diffusione',\n",
       " 'divulgazione']"
      ]
     },
     "execution_count": 24,
     "metadata": {},
     "output_type": "execute_result"
    }
   ],
   "source": [
    "# most similar words\n",
    "E.more_words_like_these([\"comunicazione\"], topn = 10, max_freq=len(E.words))[1:]"
   ]
  }
 ],
 "metadata": {
  "interpreter": {
   "hash": "8218bdb2dad6187c4b0f3e84e26c53ed9d719227dd49e3deae672e3e8481b4c5"
  },
  "kernelspec": {
   "display_name": "Python 3.9.7 ('nlp')",
   "language": "python",
   "name": "python3"
  },
  "language_info": {
   "codemirror_mode": {
    "name": "ipython",
    "version": 3
   },
   "file_extension": ".py",
   "mimetype": "text/x-python",
   "name": "python",
   "nbconvert_exporter": "python",
   "pygments_lexer": "ipython3",
   "version": "3.9.7"
  },
  "orig_nbformat": 4
 },
 "nbformat": 4,
 "nbformat_minor": 2
}
