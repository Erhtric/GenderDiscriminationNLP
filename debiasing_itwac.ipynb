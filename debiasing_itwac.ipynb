{
 "cells": [
  {
   "cell_type": "markdown",
   "metadata": {},
   "source": [
    "# Debiasing italian word embeddings"
   ]
  },
  {
   "cell_type": "markdown",
   "metadata": {},
   "source": [
    "### Downlaod data \n",
    "First of all, you need to download the Italian Twitter Embeddings pretraned from the following link [here](https://drive.google.com/file/d/1eq2Ehc8Tpj_9oFPVSFdZ1aN9YJm7J55s/view?usp=sharing) and insert the file into the `embeddings` folder."
   ]
  },
  {
   "cell_type": "code",
   "execution_count": 65,
   "metadata": {},
   "outputs": [],
   "source": [
    "from matplotlib import pyplot as plt\n",
    "import numpy as np\n",
    "import pandas as pd\n",
    "import json\n",
    "\n",
    "import debiaswe.we as we\n",
    "from debiaswe.we import WordEmbedding\n",
    "from gensim.models import KeyedVectors\n",
    "\n",
    "import tqdm"
   ]
  },
  {
   "cell_type": "markdown",
   "metadata": {},
   "source": [
    "## 1. Analysis of the embeddings"
   ]
  },
  {
   "cell_type": "code",
   "execution_count": 142,
   "metadata": {},
   "outputs": [
    {
     "name": "stdout",
     "output_type": "stream",
     "text": [
      "*** Reading data from ./embeddings/filtered_itwac128.tsv\n",
      "(537325, 128)\n",
      "537325 words of dimension 128 : di, e, che, la, ..., checcosf, dacris, pawprint, eorismo\n"
     ]
    }
   ],
   "source": [
    "# load the word embeddings\n",
    "embeddings = WordEmbedding('./embeddings/filtered_itwac128.tsv')"
   ]
  },
  {
   "cell_type": "markdown",
   "metadata": {},
   "source": [
    "### 1.1 Define gender direction\n",
    "\n",
    "We define gender direction by the pricipal component of 6 directions extracted from specific gender pairs like `\"lei\"-\"lui\"`, `\"donna\"-\"uomo\"`, etc., that largely captures gender in the embedding. This direction helps us to quantify direct and indirect biases in words and associations."
   ]
  },
  {
   "cell_type": "code",
   "execution_count": 143,
   "metadata": {},
   "outputs": [
    {
     "data": {
      "image/png": "[encoded data removed]",
      "text/plain": [
       "<Figure size 432x288 with 1 Axes>"
      ]
     },
     "metadata": {
      "needs_background": "light"
     },
     "output_type": "display_data"
    }
   ],
   "source": [
    "# compute gender direction\n",
    "female_definitional = [\"lei\", \"donna\", \"madre\", \"moglie\", \"sorella\", \"femmina\"]\n",
    "male_definitional = [\"lui\", \"uomo\", \"padre\", \"marito\", \"fratello\", \"maschio\"]\n",
    "gender_definitional_pairs = list(zip(male_definitional, female_definitional))\n",
    "\n",
    "gender_direction = we.doPCA(gender_definitional_pairs, embeddings).components_[0]\n",
    "\n",
    "# plot variance\n",
    "plt.bar(range(10), we.doPCA(gender_definitional_pairs, embeddings).explained_variance_ratio_)\n",
    "plt.title(\"Pricipal component variance\")\n",
    "plt.show()"
   ]
  },
  {
   "cell_type": "markdown",
   "metadata": {},
   "source": [
    "### 1.2 Exploit relations between words computing analogies"
   ]
  },
  {
   "cell_type": "code",
   "execution_count": 144,
   "metadata": {},
   "outputs": [],
   "source": [
    "# convert WordEmbedding into word2vec format\n",
    "tmp_file='./embeddings/filtered_itwac_w2v.bin'\n",
    "embeddings.save_w2v(tmp_file)\n",
    "w2v_embeddings = KeyedVectors.load_word2vec_format(tmp_file, binary=True)"
   ]
  },
  {
   "cell_type": "markdown",
   "metadata": {},
   "source": [
    "### Uomo : comanda = donna : obbedisce"
   ]
  },
  {
   "cell_type": "code",
   "execution_count": 149,
   "metadata": {},
   "outputs": [
    {
     "data": {
      "text/plain": [
       "[('comunicaizone', 0.5892785787582397),\n",
       " ('programmatrice', 0.5631255507469177),\n",
       " ('multimedialità', 0.5538277626037598),\n",
       " ('consulenza', 0.5276974439620972),\n",
       " ('sistemistica', 0.5047318935394287),\n",
       " ('telemedicina', 0.4999392330646515),\n",
       " ('studentessa', 0.49901556968688965),\n",
       " ('videocomunicazione', 0.49582791328430176),\n",
       " ('radiofonia', 0.49478504061698914),\n",
       " ('specializzazione', 0.49374085664749146)]"
      ]
     },
     "execution_count": 149,
     "metadata": {},
     "output_type": "execute_result"
    }
   ],
   "source": [
    "w2v_embeddings.most_similar(positive=['donna', 'informatica'], negative=['uomo'], topn=10)"
   ]
  },
  {
   "cell_type": "markdown",
   "metadata": {},
   "source": [
    "## 2. Degree classes stereotypes"
   ]
  },
  {
   "cell_type": "markdown",
   "metadata": {},
   "source": [
    "### 2.1 Gender bias correlation in degree classes"
   ]
  },
  {
   "cell_type": "code",
   "execution_count": 150,
   "metadata": {},
   "outputs": [],
   "source": [
    "# read the dataset about the gender distrubution in italian degree classes\n",
    "data = pd.read_csv(\"./data/degree_classes.csv\", delimiter=\";\", encoding='latin-1')\n",
    "data = data[data['AnnoA'] == '2020/2021']\n",
    "data = data.pivot_table(columns=['SESSO'], index=['ClasseNOME'], values ='Isc', fill_value=0, aggfunc=sum)\n",
    "data = pd.DataFrame(np.hstack([np.array(data.index).reshape(-1, 1), data.values]), columns=['ClasseNOME', 'F', 'M'])"
   ]
  },
  {
   "cell_type": "code",
   "execution_count": 151,
   "metadata": {},
   "outputs": [],
   "source": [
    "# read the aliases of the degree classes\n",
    "degree_classes_aliases = json.load(open(\"./data/degree_classes_aliases.json\", \"r\"))"
   ]
  },
  {
   "cell_type": "code",
   "execution_count": 152,
   "metadata": {},
   "outputs": [
    {
     "name": "stderr",
     "output_type": "stream",
     "text": [
      "C:\\Users\\peppe\\AppData\\Local\\Temp\\ipykernel_20616\\1266523254.py:3: SettingWithCopyWarning: \n",
      "A value is trying to be set on a copy of a slice from a DataFrame.\n",
      "Try using .loc[row_indexer,col_indexer] = value instead\n",
      "\n",
      "See the caveats in the documentation: https://pandas.pydata.org/pandas-docs/stable/user_guide/indexing.html#returning-a-view-versus-a-copy\n",
      "  gender_degree_classes['ClasseNOME'] = gender_degree_classes['ClasseNOME'].map(degree_classes_aliases)\n",
      "C:\\Users\\peppe\\AppData\\Local\\Temp\\ipykernel_20616\\1266523254.py:7: SettingWithCopyWarning: \n",
      "A value is trying to be set on a copy of a slice from a DataFrame.\n",
      "Try using .loc[row_indexer,col_indexer] = value instead\n",
      "\n",
      "See the caveats in the documentation: https://pandas.pydata.org/pandas-docs/stable/user_guide/indexing.html#returning-a-view-versus-a-copy\n",
      "  gender_degree_classes['F'] = gender_degree_classes['F']/(total)\n",
      "C:\\Users\\peppe\\AppData\\Local\\Temp\\ipykernel_20616\\1266523254.py:8: SettingWithCopyWarning: \n",
      "A value is trying to be set on a copy of a slice from a DataFrame.\n",
      "Try using .loc[row_indexer,col_indexer] = value instead\n",
      "\n",
      "See the caveats in the documentation: https://pandas.pydata.org/pandas-docs/stable/user_guide/indexing.html#returning-a-view-versus-a-copy\n",
      "  gender_degree_classes['M'] = gender_degree_classes['M']/(total)\n"
     ]
    },
    {
     "data": {
      "text/html": [
       "<div>\n",
       "<style scoped>\n",
       "    .dataframe tbody tr th:only-of-type {\n",
       "        vertical-align: middle;\n",
       "    }\n",
       "\n",
       "    .dataframe tbody tr th {\n",
       "        vertical-align: top;\n",
       "    }\n",
       "\n",
       "    .dataframe thead th {\n",
       "        text-align: right;\n",
       "    }\n",
       "</style>\n",
       "<table border=\"1\" class=\"dataframe\">\n",
       "  <thead>\n",
       "    <tr style=\"text-align: right;\">\n",
       "      <th></th>\n",
       "      <th>ClasseNOME</th>\n",
       "      <th>F</th>\n",
       "      <th>M</th>\n",
       "    </tr>\n",
       "  </thead>\n",
       "  <tbody>\n",
       "    <tr>\n",
       "      <th>43</th>\n",
       "      <td>ingegneria</td>\n",
       "      <td>0.157637</td>\n",
       "      <td>0.842363</td>\n",
       "    </tr>\n",
       "    <tr>\n",
       "      <th>34</th>\n",
       "      <td>automazione</td>\n",
       "      <td>0.161376</td>\n",
       "      <td>0.838624</td>\n",
       "    </tr>\n",
       "    <tr>\n",
       "      <th>26</th>\n",
       "      <td>informatica</td>\n",
       "      <td>0.162022</td>\n",
       "      <td>0.837978</td>\n",
       "    </tr>\n",
       "    <tr>\n",
       "      <th>39</th>\n",
       "      <td>elettronica</td>\n",
       "      <td>0.16318</td>\n",
       "      <td>0.83682</td>\n",
       "    </tr>\n",
       "    <tr>\n",
       "      <th>28</th>\n",
       "      <td>aerospaziale</td>\n",
       "      <td>0.182731</td>\n",
       "      <td>0.817269</td>\n",
       "    </tr>\n",
       "    <tr>\n",
       "      <th>24</th>\n",
       "      <td>fisica</td>\n",
       "      <td>0.271238</td>\n",
       "      <td>0.728762</td>\n",
       "    </tr>\n",
       "    <tr>\n",
       "      <th>114</th>\n",
       "      <td>agraria</td>\n",
       "      <td>0.28292</td>\n",
       "      <td>0.71708</td>\n",
       "    </tr>\n",
       "    <tr>\n",
       "      <th>23</th>\n",
       "      <td>finanza</td>\n",
       "      <td>0.316045</td>\n",
       "      <td>0.683955</td>\n",
       "    </tr>\n",
       "    <tr>\n",
       "      <th>264</th>\n",
       "      <td>urbanistica</td>\n",
       "      <td>0.351351</td>\n",
       "      <td>0.648649</td>\n",
       "    </tr>\n",
       "    <tr>\n",
       "      <th>125</th>\n",
       "      <td>geologia</td>\n",
       "      <td>0.370248</td>\n",
       "      <td>0.629752</td>\n",
       "    </tr>\n",
       "    <tr>\n",
       "      <th>255</th>\n",
       "      <td>statistica</td>\n",
       "      <td>0.399406</td>\n",
       "      <td>0.600594</td>\n",
       "    </tr>\n",
       "    <tr>\n",
       "      <th>118</th>\n",
       "      <td>chimica</td>\n",
       "      <td>0.423576</td>\n",
       "      <td>0.576424</td>\n",
       "    </tr>\n",
       "    <tr>\n",
       "      <th>86</th>\n",
       "      <td>economia</td>\n",
       "      <td>0.44669</td>\n",
       "      <td>0.55331</td>\n",
       "    </tr>\n",
       "    <tr>\n",
       "      <th>25</th>\n",
       "      <td>geografia</td>\n",
       "      <td>0.480263</td>\n",
       "      <td>0.519737</td>\n",
       "    </tr>\n",
       "    <tr>\n",
       "      <th>22</th>\n",
       "      <td>filosofia</td>\n",
       "      <td>0.497897</td>\n",
       "      <td>0.502103</td>\n",
       "    </tr>\n",
       "    <tr>\n",
       "      <th>54</th>\n",
       "      <td>matematica</td>\n",
       "      <td>0.497931</td>\n",
       "      <td>0.502069</td>\n",
       "    </tr>\n",
       "    <tr>\n",
       "      <th>61</th>\n",
       "      <td>odontoiatria</td>\n",
       "      <td>0.507381</td>\n",
       "      <td>0.492619</td>\n",
       "    </tr>\n",
       "    <tr>\n",
       "      <th>56</th>\n",
       "      <td>chirurgia</td>\n",
       "      <td>0.574258</td>\n",
       "      <td>0.425742</td>\n",
       "    </tr>\n",
       "    <tr>\n",
       "      <th>3</th>\n",
       "      <td>architettura</td>\n",
       "      <td>0.586465</td>\n",
       "      <td>0.413535</td>\n",
       "    </tr>\n",
       "    <tr>\n",
       "      <th>29</th>\n",
       "      <td>biomedica</td>\n",
       "      <td>0.59929</td>\n",
       "      <td>0.40071</td>\n",
       "    </tr>\n",
       "    <tr>\n",
       "      <th>60</th>\n",
       "      <td>musicologia</td>\n",
       "      <td>0.601439</td>\n",
       "      <td>0.398561</td>\n",
       "    </tr>\n",
       "    <tr>\n",
       "      <th>152</th>\n",
       "      <td>zootecnica</td>\n",
       "      <td>0.62381</td>\n",
       "      <td>0.37619</td>\n",
       "    </tr>\n",
       "    <tr>\n",
       "      <th>53</th>\n",
       "      <td>giurisprudenza</td>\n",
       "      <td>0.635826</td>\n",
       "      <td>0.364174</td>\n",
       "    </tr>\n",
       "    <tr>\n",
       "      <th>93</th>\n",
       "      <td>comunicazione</td>\n",
       "      <td>0.655687</td>\n",
       "      <td>0.344313</td>\n",
       "    </tr>\n",
       "    <tr>\n",
       "      <th>1</th>\n",
       "      <td>archeologia</td>\n",
       "      <td>0.659207</td>\n",
       "      <td>0.340793</td>\n",
       "    </tr>\n",
       "    <tr>\n",
       "      <th>8</th>\n",
       "      <td>biotecnologie</td>\n",
       "      <td>0.676964</td>\n",
       "      <td>0.323036</td>\n",
       "    </tr>\n",
       "    <tr>\n",
       "      <th>21</th>\n",
       "      <td>letteratura</td>\n",
       "      <td>0.686721</td>\n",
       "      <td>0.313279</td>\n",
       "    </tr>\n",
       "    <tr>\n",
       "      <th>0</th>\n",
       "      <td>antropologia</td>\n",
       "      <td>0.704088</td>\n",
       "      <td>0.295912</td>\n",
       "    </tr>\n",
       "    <tr>\n",
       "      <th>57</th>\n",
       "      <td>veterinaria</td>\n",
       "      <td>0.722541</td>\n",
       "      <td>0.277459</td>\n",
       "    </tr>\n",
       "    <tr>\n",
       "      <th>158</th>\n",
       "      <td>sociologia</td>\n",
       "      <td>0.723537</td>\n",
       "      <td>0.276463</td>\n",
       "    </tr>\n",
       "    <tr>\n",
       "      <th>7</th>\n",
       "      <td>biologia</td>\n",
       "      <td>0.724436</td>\n",
       "      <td>0.275564</td>\n",
       "    </tr>\n",
       "    <tr>\n",
       "      <th>47</th>\n",
       "      <td>lettere</td>\n",
       "      <td>0.725138</td>\n",
       "      <td>0.274862</td>\n",
       "    </tr>\n",
       "    <tr>\n",
       "      <th>19</th>\n",
       "      <td>farmacia</td>\n",
       "      <td>0.740069</td>\n",
       "      <td>0.259931</td>\n",
       "    </tr>\n",
       "    <tr>\n",
       "      <th>67</th>\n",
       "      <td>infermieristica</td>\n",
       "      <td>0.756936</td>\n",
       "      <td>0.243064</td>\n",
       "    </tr>\n",
       "    <tr>\n",
       "      <th>48</th>\n",
       "      <td>lingue</td>\n",
       "      <td>0.804951</td>\n",
       "      <td>0.195049</td>\n",
       "    </tr>\n",
       "    <tr>\n",
       "      <th>70</th>\n",
       "      <td>psicologia</td>\n",
       "      <td>0.808069</td>\n",
       "      <td>0.191931</td>\n",
       "    </tr>\n",
       "    <tr>\n",
       "      <th>142</th>\n",
       "      <td>pedagogia</td>\n",
       "      <td>0.917493</td>\n",
       "      <td>0.082507</td>\n",
       "    </tr>\n",
       "  </tbody>\n",
       "</table>\n",
       "</div>"
      ],
      "text/plain": [
       "          ClasseNOME         F         M\n",
       "43        ingegneria  0.157637  0.842363\n",
       "34       automazione  0.161376  0.838624\n",
       "26       informatica  0.162022  0.837978\n",
       "39       elettronica   0.16318   0.83682\n",
       "28      aerospaziale  0.182731  0.817269\n",
       "24            fisica  0.271238  0.728762\n",
       "114          agraria   0.28292   0.71708\n",
       "23           finanza  0.316045  0.683955\n",
       "264      urbanistica  0.351351  0.648649\n",
       "125         geologia  0.370248  0.629752\n",
       "255       statistica  0.399406  0.600594\n",
       "118          chimica  0.423576  0.576424\n",
       "86          economia   0.44669   0.55331\n",
       "25         geografia  0.480263  0.519737\n",
       "22         filosofia  0.497897  0.502103\n",
       "54        matematica  0.497931  0.502069\n",
       "61      odontoiatria  0.507381  0.492619\n",
       "56         chirurgia  0.574258  0.425742\n",
       "3       architettura  0.586465  0.413535\n",
       "29         biomedica   0.59929   0.40071\n",
       "60       musicologia  0.601439  0.398561\n",
       "152       zootecnica   0.62381   0.37619\n",
       "53    giurisprudenza  0.635826  0.364174\n",
       "93     comunicazione  0.655687  0.344313\n",
       "1        archeologia  0.659207  0.340793\n",
       "8      biotecnologie  0.676964  0.323036\n",
       "21       letteratura  0.686721  0.313279\n",
       "0       antropologia  0.704088  0.295912\n",
       "57       veterinaria  0.722541  0.277459\n",
       "158       sociologia  0.723537  0.276463\n",
       "7           biologia  0.724436  0.275564\n",
       "47           lettere  0.725138  0.274862\n",
       "19          farmacia  0.740069  0.259931\n",
       "67   infermieristica  0.756936  0.243064\n",
       "48            lingue  0.804951  0.195049\n",
       "70        psicologia  0.808069  0.191931\n",
       "142        pedagogia  0.917493  0.082507"
      ]
     },
     "execution_count": 152,
     "metadata": {},
     "output_type": "execute_result"
    }
   ],
   "source": [
    "# keep only interesing classes\n",
    "gender_degree_classes = data[data['ClasseNOME'].isin(degree_classes_aliases.keys())]\n",
    "gender_degree_classes['ClasseNOME'] = gender_degree_classes['ClasseNOME'].map(degree_classes_aliases)\n",
    "\n",
    "# change the count to percentage\n",
    "total = gender_degree_classes['F']+gender_degree_classes['M']\n",
    "gender_degree_classes['F'] = gender_degree_classes['F']/(total)\n",
    "gender_degree_classes['M'] = gender_degree_classes['M']/(total)\n",
    "gender_degree_classes.sort_values(by='F')"
   ]
  },
  {
   "cell_type": "code",
   "execution_count": null,
   "metadata": {},
   "outputs": [],
   "source": [
    "\"\"\"def analogy(positive1, negative1, positive2, embedding, topn=10):\n",
    "    relationship_1 = embedding.diff(positive1, negative1)\n",
    "    relationship_2 = np.array([embedding.diff(positive2, word) for word in embedding.words])\n",
    "\n",
    "    # compute cosine similarity\n",
    "    dots = relationship_2.dot(relationship_1)\n",
    "\n",
    "    thresh = sorted(dots)[-topn]\n",
    "    return sorted([(w, dot) for w, dot in zip(embedding.words, dots) if dot>=thresh], key=lambda x: x[1], reverse=True)\n",
    "\n",
    "print(\"Most similar:\") \n",
    "analogy(positive1=\"uomo\", negative1=\"calcio\", positive2=\"donna\", embedding=E, topn=10)\"\"\""
   ]
  },
  {
   "cell_type": "code",
   "execution_count": 153,
   "metadata": {},
   "outputs": [
    {
     "data": {
      "text/plain": [
       "[(-0.10190201, 'agraria'),\n",
       " (-0.058879457, 'infermieristica'),\n",
       " (-0.04706604, 'elettronica'),\n",
       " (-0.03023807, 'aerospaziale'),\n",
       " (-0.029271245, 'urbanistica'),\n",
       " (-0.025648333, 'informatica'),\n",
       " (-0.02378138, 'biotecnologie'),\n",
       " (0.0023004822, 'antropologia'),\n",
       " (0.0046792235, 'automazione'),\n",
       " (0.014736714, 'sociologia'),\n",
       " (0.01811924, 'ingegneria'),\n",
       " (0.018392682, 'odontoiatria'),\n",
       " (0.025583692, 'economia'),\n",
       " (0.02846541, 'zootecnica'),\n",
       " (0.028731793, 'archeologia'),\n",
       " (0.038101304, 'fisica'),\n",
       " (0.04940738, 'lettere'),\n",
       " (0.050898246, 'biomedica'),\n",
       " (0.05916567, 'statistica'),\n",
       " (0.06062073, 'geologia'),\n",
       " (0.08065692, 'veterinaria'),\n",
       " (0.088318035, 'matematica'),\n",
       " (0.093329236, 'lingue'),\n",
       " (0.09942613, 'musicologia'),\n",
       " (0.09959995, 'chimica'),\n",
       " (0.102872215, 'architettura'),\n",
       " (0.11491446, 'chirurgia'),\n",
       " (0.11745678, 'finanza'),\n",
       " (0.13365737, 'biologia'),\n",
       " (0.13491368, 'psicologia'),\n",
       " (0.14080364, 'pedagogia'),\n",
       " (0.14219052, 'filosofia'),\n",
       " (0.16015431, 'comunicazione'),\n",
       " (0.17377949, 'giurisprudenza'),\n",
       " (0.18290636, 'geografia'),\n",
       " (0.24890259, 'farmacia'),\n",
       " (0.25004864, 'letteratura')]"
      ]
     },
     "execution_count": 153,
     "metadata": {},
     "output_type": "execute_result"
    }
   ],
   "source": [
    "sp = sorted([(embeddings.v(w).dot(gender_direction), w) for w in degree_classes_aliases.values()])\n",
    "sp"
   ]
  },
  {
   "cell_type": "code",
   "execution_count": 154,
   "metadata": {},
   "outputs": [
    {
     "data": {
      "text/plain": [
       "{'agraria': -0.10190201,\n",
       " 'infermieristica': -0.058879457,\n",
       " 'elettronica': -0.04706604,\n",
       " 'aerospaziale': -0.03023807,\n",
       " 'urbanistica': -0.029271245,\n",
       " 'informatica': -0.025648333,\n",
       " 'biotecnologie': -0.02378138,\n",
       " 'antropologia': 0.0023004822,\n",
       " 'automazione': 0.0046792235,\n",
       " 'sociologia': 0.014736714,\n",
       " 'ingegneria': 0.01811924,\n",
       " 'odontoiatria': 0.018392682,\n",
       " 'economia': 0.025583692,\n",
       " 'zootecnica': 0.02846541,\n",
       " 'archeologia': 0.028731793,\n",
       " 'fisica': 0.038101304,\n",
       " 'lettere': 0.04940738,\n",
       " 'biomedica': 0.050898246,\n",
       " 'statistica': 0.05916567,\n",
       " 'geologia': 0.06062073,\n",
       " 'veterinaria': 0.08065692,\n",
       " 'matematica': 0.088318035,\n",
       " 'lingue': 0.093329236,\n",
       " 'musicologia': 0.09942613,\n",
       " 'chimica': 0.09959995,\n",
       " 'architettura': 0.102872215,\n",
       " 'chirurgia': 0.11491446,\n",
       " 'finanza': 0.11745678,\n",
       " 'biologia': 0.13365737,\n",
       " 'psicologia': 0.13491368,\n",
       " 'pedagogia': 0.14080364,\n",
       " 'filosofia': 0.14219052,\n",
       " 'comunicazione': 0.16015431,\n",
       " 'giurisprudenza': 0.17377949,\n",
       " 'geografia': 0.18290636,\n",
       " 'farmacia': 0.24890259,\n",
       " 'letteratura': 0.25004864}"
      ]
     },
     "execution_count": 154,
     "metadata": {},
     "output_type": "execute_result"
    }
   ],
   "source": [
    "dict_ = {b:a for a, b in sp}\n",
    "dict_"
   ]
  },
  {
   "cell_type": "code",
   "execution_count": 155,
   "metadata": {},
   "outputs": [
    {
     "data": {
      "text/plain": [
       "array([[ 0.00230048,  0.29591249],\n",
       "       [ 0.02873179,  0.34079309],\n",
       "       [ 0.10287222,  0.41353479],\n",
       "       [ 0.13365737,  0.27556441],\n",
       "       [-0.02378138,  0.32303577],\n",
       "       [ 0.24890259,  0.25993122],\n",
       "       [ 0.25004864,  0.31327913],\n",
       "       [ 0.14219052,  0.50210339],\n",
       "       [ 0.11745678,  0.68395462],\n",
       "       [ 0.0381013 ,  0.72876199],\n",
       "       [ 0.18290636,  0.51973684],\n",
       "       [-0.02564833,  0.83797837],\n",
       "       [-0.03023807,  0.8172686 ],\n",
       "       [ 0.05089825,  0.40070988],\n",
       "       [ 0.00467922,  0.83862434],\n",
       "       [-0.04706604,  0.83682008],\n",
       "       [ 0.01811924,  0.84236305],\n",
       "       [ 0.04940738,  0.27486241],\n",
       "       [ 0.09332924,  0.19504862],\n",
       "       [ 0.17377949,  0.36417354],\n",
       "       [ 0.08831804,  0.50206856],\n",
       "       [ 0.11491446,  0.42574184],\n",
       "       [ 0.08065692,  0.27745894],\n",
       "       [ 0.09942613,  0.39856115],\n",
       "       [ 0.01839268,  0.49261935],\n",
       "       [-0.05887946,  0.24306394],\n",
       "       [ 0.13491368,  0.19193148],\n",
       "       [ 0.02558369,  0.55330968],\n",
       "       [ 0.16015431,  0.34431308],\n",
       "       [-0.10190201,  0.71708029],\n",
       "       [ 0.09959995,  0.57642358],\n",
       "       [ 0.06062073,  0.62975207],\n",
       "       [ 0.14080364,  0.08250731],\n",
       "       [ 0.02846541,  0.37619048],\n",
       "       [ 0.01473671,  0.27646291],\n",
       "       [ 0.05916567,  0.60059423],\n",
       "       [-0.02927125,  0.64864865]])"
      ]
     },
     "execution_count": 155,
     "metadata": {},
     "output_type": "execute_result"
    }
   ],
   "source": [
    "pairs = np.array([[dict_[row['ClasseNOME']], row['M']] for i, row in gender_degree_classes.iterrows()])\n",
    "pairs"
   ]
  },
  {
   "cell_type": "code",
   "execution_count": 156,
   "metadata": {},
   "outputs": [],
   "source": [
    "gender_score, female_perc = pairs[:,0], pairs[:,1]"
   ]
  },
  {
   "cell_type": "code",
   "execution_count": 157,
   "metadata": {},
   "outputs": [
    {
     "data": {
      "image/png": "[encoded data removed]",
      "text/plain": [
       "<Figure size 1080x720 with 1 Axes>"
      ]
     },
     "metadata": {
      "needs_background": "light"
     },
     "output_type": "display_data"
    }
   ],
   "source": [
    "plt.figure(figsize=(15,10))\n",
    "plt.scatter(gender_score, female_perc)\n",
    "for i in range(len(gender_degree_classes)):\n",
    "    plt.annotate(gender_degree_classes['ClasseNOME'].tolist()[i], (gender_score[i], female_perc[i] + 0.01))"
   ]
  },
  {
   "cell_type": "code",
   "execution_count": 158,
   "metadata": {},
   "outputs": [
    {
     "data": {
      "text/plain": [
       "SpearmanrResult(correlation=-0.3897581792318634, pvalue=0.017097874665928183)"
      ]
     },
     "execution_count": 158,
     "metadata": {},
     "output_type": "execute_result"
    }
   ],
   "source": [
    "import scipy\n",
    "scipy.stats.spearmanr(gender_score, female_perc)"
   ]
  },
  {
   "cell_type": "code",
   "execution_count": 159,
   "metadata": {},
   "outputs": [
    {
     "data": {
      "text/plain": [
       "(-0.46105783408372125, 0.00407908700197112)"
      ]
     },
     "execution_count": 159,
     "metadata": {},
     "output_type": "execute_result"
    }
   ],
   "source": [
    "scipy.stats.pearsonr(gender_score, female_perc)"
   ]
  },
  {
   "cell_type": "markdown",
   "metadata": {},
   "source": [
    "## 3. Debias"
   ]
  },
  {
   "cell_type": "code",
   "execution_count": 160,
   "metadata": {},
   "outputs": [],
   "source": [
    "from debiaswe.debias import debias"
   ]
  },
  {
   "cell_type": "code",
   "execution_count": 161,
   "metadata": {},
   "outputs": [],
   "source": [
    "# Lets load some gender related word lists to help us with debiasing\n",
    "\n",
    "with open('./data/equalize_pairs_it.json', \"r\") as f:\n",
    "    equalize_pairs = json.load(f)"
   ]
  },
  {
   "cell_type": "code",
   "execution_count": 162,
   "metadata": {},
   "outputs": [
    {
     "name": "stdout",
     "output_type": "stream",
     "text": [
      "537325 words of dimension 128 : di, e, che, la, ..., checcosf, dacris, pawprint, eorismo\n",
      "{('BENZINAIO', 'BENZINAIA'), ('ORAFO', 'ORAFA'), ('VETRAIO', 'VETRAIA'), ('montatore', 'montatrice'), ('Viticoltore', 'Viticoltrice'), ('manutentore', 'manutentrice'), ('AMMINISTRATORE', 'AMMINISTRATRICE'), ('AGRONOMO', 'AGRONOMA'), ('spazzino', 'spazzina'), ('Vigilatore', 'Vigilatrice'), ('Rematore', 'Rematrice'), ('parcheggiatore', 'parcheggiatrice'), ('ballerino', 'ballerina'), ('Marinaio', 'Marinaia'), ('Pellicciaio', 'Pellicciaia'), ('BIBLIOTECARIO', 'BIBLIOTECARIA'), ('OTTICO', 'OTTICA'), ('BOTANICO', 'BOTANICA'), ('BIOLOGO', 'BIOLOGA'), ('Poliziotto', 'Poliziotta'), ('', 'portantina'), ('Scultore', 'Scultrice'), ('poliziotto', 'poliziotta'), ('Montatore', 'Montatrice'), ('POLIZIOTTO', 'POLIZIOTTA'), ('GELATAIO', 'GELATAIA'), ('Allenatore', 'Allenatrice'), ('CLIMATOLOGO', 'CLIMATOLOGA'), ('operaio', 'operaia'), ('ALLENATORE', 'ALLENATRICE'), ('OROLOGIAIO', 'OROLOGIAIA'), ('medico', 'medica'), ('Procuratore', 'Procuratrice'), ('Promotore', 'Promotrice'), ('MACELLAIO', 'MACELLAIA'), ('NOSTROMO', 'NOSTROMA'), ('geologo', 'geologa'), ('Restauratore', 'Restauratrice'), ('sceneggiatore', 'sceneggiatrice'), ('Avvocato', 'Avvocata'), ('Gelataio', 'Gelataia'), ('SPAZZINO', 'SPAZZINA'), ('ALLEVATORE', 'ALLEVATRICE'), ('ottico', 'ottica'), ('DISCOGRAFICO', 'DISCOGRAFICA'), ('Bibliotecario', 'Bibliotecaria'), ('VETERINARIO', 'VETERINARIA'), ('decoratore', 'decoratrice'), ('orafo', 'orafa'), ('MARINAIO', 'MARINAIA'), ('saldatore', 'saldatrice'), ('Minatore', 'Minatrice'), ('casalingo', 'casalinga'), ('calciatore', 'calciatrice'), ('COLTIVATORE', 'COLTIVATRICE'), ('bibliotecario', 'bibliotecaria'), ('impiegato', 'impiegata'), ('PESCATORE', 'PESCATRICE'), ('Pescatore', 'Pescatrice'), ('redattore', 'redattrice'), ('Addetto', 'Addetta'), ('viticoltore', 'viticoltrice'), ('Coltivatore', 'Coltivatrice'), ('MEDIATORE', 'MEDIATRICE'), ('botanico', 'botanica'), ('COREOGRAFO', 'COREOGRAFA'), ('meccanico', 'meccanica'), ('', 'PORTANTINA'), ('intagliatore', 'intagliatrice'), ('AUTORE', 'AUTRICE'), ('BANCARIO', 'BANCARIA'), ('Idraulico', 'Idraulica'), ('Ottico', 'Ottica'), ('Sceneggiatore', 'Sceneggiatrice'), ('paleografo', 'paleografa'), ('FONICO', 'FONICA'), ('LIUTAIO', 'LIUTAIA'), ('fotografo', 'fotografa'), ('PESCIVENDOLO', 'PESCIVENDOLA'), ('MINATORE', 'MINATRICE'), ('Benzinaio', 'Benzinaia'), ('procuratore', 'procuratrice'), ('nostromo', 'nostroma'), ('', 'Portantina'), ('cuoco', 'cuoca'), ('Apicoltore', 'Apicoltrice'), ('Nostromo', 'Nostroma'), ('Fonico', 'Fonica'), ('questore', 'questrice'), ('apicoltore', 'apicoltrice'), ('FRUTTIVENDOLO', 'FRUTTIVENDOLA'), ('PSICOLOGO', 'PSICOLOGA'), ('coreografo', 'coreografa'), ('Puericultore', 'Puericultrice'), ('accompagnatore', 'accompagnatrice'), ('Contadino', 'Contadina'), ('agronomo', 'agronoma'), ('Botanico', 'Botanica'), ('rematore', 'rematrice'), ('Programmatore', 'Programmatrice'), ('ADDETTO', 'ADDETTA'), ('PALEOGRAFO', 'PALEOGRAFA'), ('coltivatore', 'coltivatrice'), ('enologo', 'enologa'), ('zoologo', 'zoologa'), ('Orologiaio', 'Orologiaia'), ('amministratore', 'amministratrice'), ('DISEGNATORE', 'DISEGNATRICE'), ('MEDICO', 'MEDICA'), ('verniciatore', 'verniciatrice'), ('PROCURATORE', 'PROCURATRICE'), ('marinaio', 'marinaia'), ('dietologo', 'dietologa'), ('VIGILATORE', 'VIGILATRICE'), ('Ombrellaio', 'Ombrellaia'), ('ENOLOGO', 'ENOLOGA'), ('Dietologo', 'Dietologa'), ('fonico', 'fonica'), ('VITICOLTORE', 'VITICOLTRICE'), ('Bagnino', 'Bagnina'), ('Intagliatore', 'Intagliatrice'), ('CARTOLAIO', 'CARTOLAIA'), ('giornalaio', 'giornalaia'), ('mediatore', 'mediatrice'), ('PROGRAMMATORE', 'PROGRAMMATRICE'), ('vigilatore', 'vigilatrice'), ('Bancario', 'Bancaria'), ('AVVOCATO', 'AVVOCATA'), ('formatore', 'formatrice'), ('SARTO', 'SARTA'), ('CONTADINO', 'CONTADINA'), ('cartolaio', 'cartolaia'), ('PITTORE', 'PITTRICE'), ('IMPRESARIO', 'IMPRESARIA'), ('CUOCO', 'CUOCA'), ('ACCOMPAGNATORE', 'ACCOMPAGNATRICE'), ('FORMATORE', 'FORMATRICE'), ('Attore', 'Attrice'), ('Fotografo', 'Fotografa'), ('CONDUTTORE', 'CONDUTTRICE'), ('arrangiatore', 'arrangiatrice'), ('attore', 'attrice'), ('benzinaio', 'benzinaia'), ('FIORAIO', 'FIORAIA'), ('ARRANGIATORE', 'ARRANGIATRICE'), ('operatore', 'operatrice'), ('pellicciaio', 'pellicciaia'), ('Liutaio', 'Liutaia'), ('Fruttivendolo', 'Fruttivendola'), ('UROLOGO', 'UROLOGA'), ('cappellaio', 'cappellaia'), ('Direttore', 'Direttrice'), ('orologiaio', 'orologiaia'), ('Segretario', 'Segretaria'), ('Allevatore', 'Allevatrice'), ('artigiano', 'artigiana'), ('Zoologo', 'Zoologa'), ('macellaio', 'macellaia'), ('conduttore', 'conduttrice'), ('Coreografo', 'Coreografa'), ('Arredatore', 'Arredatrice'), ('VOGATORE', 'VOGATRICE'), ('VERNICIATORE', 'VERNICIATRICE'), ('Enologo', 'Enologa'), ('Geologo', 'Geologa'), ('storico', 'storica'), ('Accompagnatore', 'Accompagnatrice'), ('restauratore', 'restauratrice'), ('sarto', 'sarta'), ('allenatore', 'allenatrice'), ('ZOOLOGO', 'ZOOLOGA'), ('Impresario', 'Impresaria'), ('promotore', 'promotrice'), ('Medico', 'Medica'), ('CAPPELLAIO', 'CAPPELLAIA'), ('SEGRETARIO', 'SEGRETARIA'), ('Verniciatore', 'Verniciatrice'), ('ARTIGIANO', 'ARTIGIANA'), ('Questore', 'Questrice'), ('contadino', 'contadina'), ('Artigiano', 'Artigiana'), ('DIETOLOGO', 'DIETOLOGA'), ('Lettore', 'Lettrice'), ('Disegnatore', 'Disegnatrice'), ('bancario', 'bancaria'), ('vetraio', 'vetraia'), ('climatologo', 'climatologa'), ('idraulico', 'idraulica'), ('Maestro', 'Maestra'), ('allevatore', 'allevatrice'), ('DECORATORE', 'DECORATRICE'), ('Meccanico', 'Meccanica'), ('Urologo', 'Urologa'), ('IMPIEGATO', 'IMPIEGATA'), ('QUESTORE', 'QUESTRICE'), ('ARREDATORE', 'ARREDATRICE'), ('gelataio', 'gelataia'), ('SCENEGGIATORE', 'SCENEGGIATRICE'), ('tabaccaio', 'tabaccaia'), ('pescatore', 'pescatrice'), ('Vetraio', 'Vetraia'), ('SALDATORE', 'SALDATRICE'), ('ATTORE', 'ATTRICE'), ('FOTOGRAFO', 'FOTOGRAFA'), ('pescivendolo', 'pescivendola'), ('Orafo', 'Orafa'), ('avvocato', 'avvocata'), ('REDATTORE', 'REDATTRICE'), ('STORICO', 'STORICA'), ('Casalingo', 'Casalinga'), ('politico', 'politica'), ('CASALINGO', 'CASALINGA'), ('PELLICCIAIO', 'PELLICCIAIA'), ('sessuologo', 'sessuologa'), ('direttore', 'direttrice'), ('Cartolaio', 'Cartolaia'), ('LETTORE', 'LETTRICE'), ('SCULTORE', 'SCULTRICE'), ('arredatore', 'arredatrice'), ('programmatore', 'programmatrice'), ('vogatore', 'vogatrice'), ('PROMOTORE', 'PROMOTRICE'), ('Discografico', 'Discografica'), ('Vogatore', 'Vogatrice'), ('Cappellaio', 'Cappellaia'), ('Parcheggiatore', 'Parcheggiatrice'), ('Veterinario', 'Veterinaria'), ('Scenografo', 'Scenografa'), ('POLITICO', 'POLITICA'), ('lettore', 'lettrice'), ('Storico', 'Storica'), ('Tabaccaio', 'Tabaccaia'), ('Manutentore', 'Manutentrice'), ('addetto', 'addetta'), ('Saldatore', 'Saldatrice'), ('Biologo', 'Biologa'), ('pittore', 'pittrice'), ('GEOLOGO', 'GEOLOGA'), ('Arrangiatore', 'Arrangiatrice'), ('GIORNALAIO', 'GIORNALAIA'), ('SESSUOLOGO', 'SESSUOLOGA'), ('OPERATORE', 'OPERATRICE'), ('urologo', 'urologa'), ('Ballerino', 'Ballerina'), ('MONTATORE', 'MONTATRICE'), ('APICOLTORE', 'APICOLTRICE'), ('bagnino', 'bagnina'), ('biologo', 'biologa'), ('MANUTENTORE', 'MANUTENTRICE'), ('Sessuologo', 'Sessuologa'), ('Formatore', 'Formatrice'), ('Pittore', 'Pittrice'), ('REMATORE', 'REMATRICE'), ('Amministratore', 'Amministratrice'), ('liutaio', 'liutaia'), ('Operatore', 'Operatrice'), ('disegnatore', 'disegnatrice'), ('CALCIATORE', 'CALCIATRICE'), ('Climatologo', 'Climatologa'), ('RESTAURATORE', 'RESTAURATRICE'), ('albergatore', 'albergatrice'), ('veterinario', 'veterinaria'), ('Impiegato', 'Impiegata'), ('MAESTRO', 'MAESTRA'), ('Decoratore', 'Decoratrice'), ('Psicologo', 'Psicologa'), ('scultore', 'scultrice'), ('DIRETTORE', 'DIRETTRICE'), ('Agronomo', 'Agronoma'), ('minatore', 'minatrice'), ('MECCANICO', 'MECCANICA'), ('OPERAIO', 'OPERAIA'), ('Redattore', 'Redattrice'), ('PARCHEGGIATORE', 'PARCHEGGIATRICE'), ('Macellaio', 'Macellaia'), ('impresario', 'impresaria'), ('Albergatore', 'Albergatrice'), ('Pescivendolo', 'Pescivendola'), ('ALBERGATORE', 'ALBERGATRICE'), ('fruttivendolo', 'fruttivendola'), ('Sarto', 'Sarta'), ('TABACCAIO', 'TABACCAIA'), ('PUERICULTORE', 'PUERICULTRICE'), ('Paleografo', 'Paleografa'), ('ombrellaio', 'ombrellaia'), ('Conduttore', 'Conduttrice'), ('Politico', 'Politica'), ('Cuoco', 'Cuoca'), ('autore', 'autrice'), ('SCENOGRAFO', 'SCENOGRAFA'), ('scenografo', 'scenografa'), ('maestro', 'maestra'), ('fioraio', 'fioraia'), ('psicologo', 'psicologa'), ('BAGNINO', 'BAGNINA'), ('BALLERINO', 'BALLERINA'), ('puericultore', 'puericultrice'), ('OMBRELLAIO', 'OMBRELLAIA'), ('Calciatore', 'Calciatrice'), ('Mediatore', 'Mediatrice'), ('Operaio', 'Operaia'), ('Autore', 'Autrice'), ('discografico', 'discografica'), ('Fioraio', 'Fioraia'), ('segretario', 'segretaria'), ('Giornalaio', 'Giornalaia'), ('IDRAULICO', 'IDRAULICA'), ('Spazzino', 'Spazzina'), ('INTAGLIATORE', 'INTAGLIATRICE')}\n",
      "537325 words of dimension 128 : di, e, che, la, ..., checcosf, dacris, pawprint, eorismo\n"
     ]
    }
   ],
   "source": [
    "debias(embeddings, degree_classes_aliases, gender_definitional_pairs, equalize_pairs)"
   ]
  },
  {
   "cell_type": "code",
   "execution_count": 163,
   "metadata": {},
   "outputs": [
    {
     "data": {
      "text/plain": [
       "[(-0.44250977, 'veterinaria'),\n",
       " (-3.7252903e-08, 'psicologia'),\n",
       " (-3.3527613e-08, 'geografia'),\n",
       " (-2.9802322e-08, 'letteratura'),\n",
       " (-2.6077032e-08, 'lingue'),\n",
       " (-1.8626451e-08, 'farmacia'),\n",
       " (-1.8626451e-08, 'sociologia'),\n",
       " (-1.6763806e-08, 'pedagogia'),\n",
       " (-1.4901161e-08, 'antropologia'),\n",
       " (-1.4901161e-08, 'finanza'),\n",
       " (-1.4901161e-08, 'zootecnica'),\n",
       " (-1.3038516e-08, 'informatica'),\n",
       " (-1.1175871e-08, 'statistica'),\n",
       " (-9.313226e-09, 'lettere'),\n",
       " (-7.450581e-09, 'infermieristica'),\n",
       " (-5.5879354e-09, 'biomedica'),\n",
       " (-3.7252903e-09, 'filosofia'),\n",
       " (-3.7252903e-09, 'ingegneria'),\n",
       " (0.0, 'aerospaziale'),\n",
       " (0.0, 'economia'),\n",
       " (0.0, 'fisica'),\n",
       " (0.0, 'odontoiatria'),\n",
       " (1.8626451e-09, 'chimica'),\n",
       " (1.8626451e-09, 'musicologia'),\n",
       " (3.7252903e-09, 'archeologia'),\n",
       " (3.7252903e-09, 'biotecnologie'),\n",
       " (7.450581e-09, 'architettura'),\n",
       " (7.450581e-09, 'elettronica'),\n",
       " (7.450581e-09, 'urbanistica'),\n",
       " (9.313226e-09, 'automazione'),\n",
       " (1.0244548e-08, 'matematica'),\n",
       " (1.4901161e-08, 'agraria'),\n",
       " (1.4901161e-08, 'chirurgia'),\n",
       " (1.4901161e-08, 'geologia'),\n",
       " (2.2351742e-08, 'biologia'),\n",
       " (2.9802322e-08, 'giurisprudenza'),\n",
       " (4.4703484e-08, 'comunicazione')]"
      ]
     },
     "execution_count": 163,
     "metadata": {},
     "output_type": "execute_result"
    }
   ],
   "source": [
    "sp = sorted([(embeddings.v(w).dot(gender_direction), w) for w in degree_classes_aliases.values()])\n",
    "sp"
   ]
  },
  {
   "cell_type": "code",
   "execution_count": 164,
   "metadata": {},
   "outputs": [],
   "source": [
    "# convert WordEmbedding into word2vec format\n",
    "tmp_file='./embeddings/twitter_w2v_debiased.bin'\n",
    "embeddings.save_w2v(tmp_file)\n",
    "w2v_embeddings = KeyedVectors.load_word2vec_format(tmp_file, binary=True)"
   ]
  },
  {
   "cell_type": "code",
   "execution_count": 168,
   "metadata": {},
   "outputs": [
    {
     "data": {
      "text/plain": [
       "[('disegnatrice', 0.6150364875793457),\n",
       " ('sistemista', 0.6139325499534607),\n",
       " ('ragioniera', 0.6125180721282959),\n",
       " ('sarta', 0.5797533988952637),\n",
       " ('puericultore', 0.5668995380401611),\n",
       " ('massaggiatrice', 0.5584173202514648),\n",
       " ('psicologa', 0.5571607351303101),\n",
       " ('formatrice', 0.5563755035400391),\n",
       " ('programmatrice', 0.5515722036361694),\n",
       " ('calciatrice', 0.5325778722763062)]"
      ]
     },
     "execution_count": 168,
     "metadata": {},
     "output_type": "execute_result"
    }
   ],
   "source": [
    "w2v_embeddings.most_similar(positive=['donna', 'programmatore'], negative=['uomo'], topn=10)"
   ]
  }
 ],
 "metadata": {
  "interpreter": {
   "hash": "8218bdb2dad6187c4b0f3e84e26c53ed9d719227dd49e3deae672e3e8481b4c5"
  },
  "kernelspec": {
   "display_name": "Python 3.9.7 ('nlp')",
   "language": "python",
   "name": "python3"
  },
  "language_info": {
   "codemirror_mode": {
    "name": "ipython",
    "version": 3
   },
   "file_extension": ".py",
   "mimetype": "text/x-python",
   "name": "python",
   "nbconvert_exporter": "python",
   "pygments_lexer": "ipython3",
   "version": "3.9.7"
  },
  "orig_nbformat": 4
 },
 "nbformat": 4,
 "nbformat_minor": 2
}
